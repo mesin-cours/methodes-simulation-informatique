{
 "cells": [
  {
   "cell_type": "markdown",
   "id": "b89ad921",
   "metadata": {},
   "source": [
    "<h1 style=\"font-size:3rem;color:#6667AB;\">TP 1</h1>\n",
    "\n",
    "## Méthodes de Simulation Informatique\n",
    "### Amaya Nogales Gómez\n",
    "\n",
    "<h2> Partie 1: Rappel de <i>list</i> </h2> \n"
   ]
  },
  {
   "cell_type": "markdown",
   "id": "55245cfb",
   "metadata": {},
   "source": [
    "Une liste est une collection d'éléments, qui est stockée dans une variable. Les éléments doivent être liés d'une manière ou d'une autre, mais il n'y a aucune restriction sur ce qui peut être stocké dans une liste. \n",
    "\n",
    "Voici un exemple simple de liste et comment nous pouvons accéder rapidement à chaque élément de la liste."
   ]
  },
  {
   "cell_type": "markdown",
   "id": "156cf080",
   "metadata": {},
   "source": [
    "### Exemple\n",
    "\n",
    "Voici un exemple simple de liste et comment nous pouvons accéder rapidement à chaque élément de la liste."
   ]
  },
  {
   "cell_type": "code",
   "execution_count": 1,
   "id": "37cddbf1",
   "metadata": {},
   "outputs": [
    {
     "name": "stdout",
     "output_type": "stream",
     "text": [
      "Salut, Laurene!\n",
      "Salut, Sami!\n",
      "Salut, Njariniaina!\n"
     ]
    }
   ],
   "source": [
    "etudiants = ['laurene', 'sami', 'njariniaina']\n",
    "\n",
    "for etudiant in etudiants:\n",
    "    print(\"Salut, \" + etudiant.title() + \"!\")"
   ]
  },
  {
   "cell_type": "markdown",
   "id": "eba83aeb",
   "metadata": {},
   "source": [
    "### Nommer et définir une liste\n",
    "\n",
    "Puisque les listes sont des collections d'objets, il est recommandé de leur donner un nom au pluriel. Si chaque élément de votre liste est un fruit, appelez la liste \"fruits\". Si chaque élément est une livre, appelez votre liste \"livres\". Cela vous donne un moyen simple de faire référence à la liste entière (\"livres\") et à un seul élément de la liste (\"livre\").\n",
    "\n",
    "En Python, les crochets désignent une liste. Pour définir une liste, vous indiquez le nom de la liste, le signe égal et les valeurs que vous souhaitez inclure dans votre liste entre crochets."
   ]
  },
  {
   "cell_type": "code",
   "execution_count": 2,
   "id": "b4cd8e01",
   "metadata": {},
   "outputs": [
    {
     "name": "stdout",
     "output_type": "stream",
     "text": [
      "pomme\n",
      "Pomme\n"
     ]
    }
   ],
   "source": [
    "fruits = ['pomme', \n",
    "        'banane', \n",
    "        'poire']\n",
    "\n",
    "fruit = fruits[0]\n",
    "print(fruit)\n",
    "print(fruit.title())"
   ]
  },
  {
   "cell_type": "markdown",
   "id": "b973abe2",
   "metadata": {},
   "source": [
    "1. Imprimer le deuxième terme de la liste fruits."
   ]
  },
  {
   "cell_type": "code",
   "execution_count": null,
   "id": "d703555c",
   "metadata": {},
   "outputs": [],
   "source": []
  },
  {
   "cell_type": "markdown",
   "id": "deb6b55f",
   "metadata": {},
   "source": [
    "2. Imprimer le dernier terme de la liste fruits."
   ]
  },
  {
   "cell_type": "code",
   "execution_count": null,
   "id": "c046606f",
   "metadata": {},
   "outputs": [],
   "source": []
  },
  {
   "cell_type": "markdown",
   "id": "5ef832e4",
   "metadata": {},
   "source": [
    "3. Creez une liste avec au moins 4 prénoms des copines et/ou copains de classe."
   ]
  },
  {
   "cell_type": "code",
   "execution_count": null,
   "id": "3dcbc53b",
   "metadata": {},
   "outputs": [],
   "source": []
  },
  {
   "cell_type": "markdown",
   "id": "5c44b3ad",
   "metadata": {},
   "source": [
    "4. Imprimez chacune de ces valeurs, en utilisant leur position dans la liste."
   ]
  },
  {
   "cell_type": "code",
   "execution_count": null,
   "id": "9cc1e2e5",
   "metadata": {},
   "outputs": [],
   "source": []
  },
  {
   "cell_type": "markdown",
   "id": "12970720",
   "metadata": {},
   "source": [
    "5. Print a statement about each of these values, using their position in the list."
   ]
  },
  {
   "cell_type": "code",
   "execution_count": null,
   "id": "f84aa194",
   "metadata": {},
   "outputs": [],
   "source": []
  },
  {
   "cell_type": "markdown",
   "id": "b32d3df7",
   "metadata": {},
   "source": [
    "6. Creer une liste d'entiers de 0 a 5. Appeler cette liste a_list."
   ]
  },
  {
   "cell_type": "code",
   "execution_count": null,
   "id": "04b4aae4",
   "metadata": {},
   "outputs": [],
   "source": []
  },
  {
   "cell_type": "markdown",
   "id": "2fe1c377",
   "metadata": {},
   "source": [
    "7. Quel est le type de a_list?"
   ]
  },
  {
   "cell_type": "code",
   "execution_count": null,
   "id": "e4d55554",
   "metadata": {},
   "outputs": [],
   "source": []
  },
  {
   "cell_type": "markdown",
   "id": "3c9ba966",
   "metadata": {},
   "source": [
    "8. Transformez a_list en une list et verifier le type de a_list."
   ]
  },
  {
   "cell_type": "code",
   "execution_count": null,
   "id": "d64a15f3",
   "metadata": {},
   "outputs": [],
   "source": []
  },
  {
   "cell_type": "markdown",
   "id": "ed604706",
   "metadata": {},
   "source": [
    "9. Quel est le type du premier terme de a_list?"
   ]
  },
  {
   "cell_type": "code",
   "execution_count": null,
   "id": "0932cf2e",
   "metadata": {},
   "outputs": [],
   "source": []
  },
  {
   "cell_type": "markdown",
   "id": "015611fe",
   "metadata": {},
   "source": [
    "10. Creer la liste des carres des nombres de 0 a 5: 0, 1, 4, 9, 16, 25.\n",
    "Appeler cette liste squares."
   ]
  },
  {
   "cell_type": "code",
   "execution_count": null,
   "id": "4fae5ecc",
   "metadata": {},
   "outputs": [],
   "source": []
  },
  {
   "cell_type": "markdown",
   "id": "c66a9245",
   "metadata": {},
   "source": [
    "11. Afficher le premier et dernier terme de la liste squares.\n"
   ]
  },
  {
   "cell_type": "code",
   "execution_count": null,
   "id": "da425c09",
   "metadata": {},
   "outputs": [],
   "source": []
  },
  {
   "cell_type": "markdown",
   "id": "3236c34c",
   "metadata": {},
   "source": [
    "12. Afficher la sous-liste composee des trois premiers terme de la liste."
   ]
  },
  {
   "cell_type": "code",
   "execution_count": null,
   "id": "d62ef78e",
   "metadata": {},
   "outputs": [],
   "source": []
  },
  {
   "cell_type": "markdown",
   "id": "47307532",
   "metadata": {},
   "source": [
    "13. Creer une seconde liste square_2 avec les carres des nombres de 6 a 10: 36, 49, 64, 81, 100.\n",
    "Concatener squares et squares_2 avec l'operateur +."
   ]
  },
  {
   "cell_type": "code",
   "execution_count": null,
   "id": "6854bc27",
   "metadata": {},
   "outputs": [],
   "source": []
  },
  {
   "cell_type": "markdown",
   "id": "b40086e0",
   "metadata": {},
   "source": [
    "14. Ci dessous la liste des cubes des nombres de 1 a 5. Une erreur s'est glissee dans la liste. Remplacer l'erreur par la correcte valeur."
   ]
  },
  {
   "cell_type": "code",
   "execution_count": 3,
   "id": "fca5317c",
   "metadata": {},
   "outputs": [
    {
     "name": "stdout",
     "output_type": "stream",
     "text": [
      "[1, 8, 27, 65, 125]\n"
     ]
    }
   ],
   "source": [
    "cubes = [1, 8, 27, 65, 125]\n",
    "print(cubes)\n",
    "#Remplacer l'erreur dans la liste cubes:"
   ]
  },
  {
   "cell_type": "markdown",
   "id": "fd5a0ce0",
   "metadata": {},
   "source": [
    "<h2> Partie 2: NumPy </h2> \n",
    "\n",
    "La fonctionnalité centrale de NumPy est la classe d'objet tableau (<i>array</i>). Les tableaux sont similaires aux listes en Python,\n",
    "sauf que chaque élément d'un tableau doit être du même type, généralement un type numérique comme\n",
    "<i>float</i> ou <i>int<i/>. \n",
    "    \n",
    "Les tableaux rendent les opérations avec de grandes quantités de données numériques très rapides et sont généralement beaucoup plus efficace que les listes.\n",
    "    \n",
    "    \n",
    "\n",
    "\n"
   ]
  },
  {
   "cell_type": "markdown",
   "id": "1406b550",
   "metadata": {},
   "source": [
    "2.1. Importez NumPy comme nom plus bref <i>np<i>."
   ]
  },
  {
   "cell_type": "code",
   "execution_count": null,
   "id": "0709a209",
   "metadata": {},
   "outputs": [],
   "source": []
  },
  {
   "cell_type": "markdown",
   "id": "c1f18051",
   "metadata": {},
   "source": [
    "2.2. Creez un tablau partir de la liste a_list."
   ]
  },
  {
   "cell_type": "code",
   "execution_count": null,
   "id": "5ddd25c0",
   "metadata": {},
   "outputs": [],
   "source": []
  },
  {
   "cell_type": "markdown",
   "id": "557ef895",
   "metadata": {},
   "source": [
    "2.3 Quel est le type de a_list?"
   ]
  },
  {
   "cell_type": "code",
   "execution_count": null,
   "id": "99f52c52",
   "metadata": {},
   "outputs": [],
   "source": []
  },
  {
   "cell_type": "markdown",
   "id": "815d8060",
   "metadata": {},
   "source": [
    "2.4. Imprimez le deuxième terme du tableau a_array."
   ]
  },
  {
   "cell_type": "code",
   "execution_count": null,
   "id": "80fc508d",
   "metadata": {},
   "outputs": [],
   "source": []
  },
  {
   "cell_type": "markdown",
   "id": "8c38d5df",
   "metadata": {},
   "source": [
    "2.4. Imprimez les 3 derniers termes du tableau a_array."
   ]
  },
  {
   "cell_type": "code",
   "execution_count": null,
   "id": "ebc8a99d",
   "metadata": {},
   "outputs": [],
   "source": []
  },
  {
   "cell_type": "markdown",
   "id": "8eb9cac4",
   "metadata": {},
   "source": [
    "2.5. Creez un tableau de dimension 2. Appelez-le A."
   ]
  },
  {
   "cell_type": "code",
   "execution_count": null,
   "id": "86724fcf",
   "metadata": {},
   "outputs": [],
   "source": []
  },
  {
   "cell_type": "markdown",
   "id": "4813e992",
   "metadata": {},
   "source": [
    "2.6. Imprimez le premier et dernier terme du tableau A."
   ]
  },
  {
   "cell_type": "code",
   "execution_count": null,
   "id": "7d040455",
   "metadata": {},
   "outputs": [],
   "source": []
  },
  {
   "cell_type": "markdown",
   "id": "a7002499",
   "metadata": {},
   "source": [
    "2.7. Imprimez la taille des listes squares et squares_2. Corrigez l'erreur dans le code suivant. "
   ]
  },
  {
   "cell_type": "code",
   "execution_count": 5,
   "id": "9ab3970f",
   "metadata": {},
   "outputs": [
    {
     "ename": "NameError",
     "evalue": "name 'squares' is not defined",
     "output_type": "error",
     "traceback": [
      "\u001b[0;31m---------------------------------------------------------------------------\u001b[0m",
      "\u001b[0;31mNameError\u001b[0m                                 Traceback (most recent call last)",
      "\u001b[0;32m/tmp/ipykernel_56782/528903982.py\u001b[0m in \u001b[0;36m<module>\u001b[0;34m\u001b[0m\n\u001b[0;32m----> 1\u001b[0;31m \u001b[0mB\u001b[0m\u001b[0;34m=\u001b[0m\u001b[0mnp\u001b[0m\u001b[0;34m.\u001b[0m\u001b[0marray\u001b[0m\u001b[0;34m(\u001b[0m\u001b[0;34m[\u001b[0m\u001b[0msquares\u001b[0m\u001b[0;34m,\u001b[0m\u001b[0msquares_2\u001b[0m\u001b[0;34m]\u001b[0m\u001b[0;34m)\u001b[0m\u001b[0;34m\u001b[0m\u001b[0;34m\u001b[0m\u001b[0m\n\u001b[0m",
      "\u001b[0;31mNameError\u001b[0m: name 'squares' is not defined"
     ]
    }
   ],
   "source": [
    "B=np.array([squares,squares_2])"
   ]
  },
  {
   "cell_type": "markdown",
   "id": "eb19b707",
   "metadata": {},
   "source": [
    "2.8. Quel est le type des termes de a_array?"
   ]
  },
  {
   "cell_type": "code",
   "execution_count": null,
   "id": "d3edbae9",
   "metadata": {},
   "outputs": [],
   "source": []
  },
  {
   "cell_type": "markdown",
   "id": "d2f7a5a2",
   "metadata": {},
   "source": [
    "2.9. Changez le type de a_array to float.\n"
   ]
  },
  {
   "cell_type": "code",
   "execution_count": null,
   "id": "1c8f136a",
   "metadata": {},
   "outputs": [],
   "source": []
  },
  {
   "cell_type": "markdown",
   "id": "4cc7666d",
   "metadata": {},
   "source": [
    "2.10. Qu'est que ca donne comme solution la fonction len quand on l'a utilise avec un tableau? Essayez avec un tableau de taille 1 et 2."
   ]
  },
  {
   "cell_type": "code",
   "execution_count": null,
   "id": "7c80bf40",
   "metadata": {},
   "outputs": [],
   "source": []
  },
  {
   "cell_type": "markdown",
   "id": "42a7884c",
   "metadata": {},
   "source": [
    "2.11. Est-ce que le terme 2 est present dans le tableau A? Utilisez la fonction <i>in<i/>."
   ]
  },
  {
   "cell_type": "code",
   "execution_count": null,
   "id": "360bbd3f",
   "metadata": {},
   "outputs": [],
   "source": []
  },
  {
   "cell_type": "markdown",
   "id": "560dc0c2",
   "metadata": {},
   "source": [
    "2.12. Changez le premier terme du tableau a pour un autre nombre entier. Est-ce que ca change aussi dans les tableaux b et c? Pourquoi?"
   ]
  },
  {
   "cell_type": "code",
   "execution_count": 6,
   "id": "10854190",
   "metadata": {},
   "outputs": [],
   "source": [
    "a = np.array([1, 2, 3], float)\n",
    "b = a\n",
    "c = a.copy()"
   ]
  },
  {
   "cell_type": "code",
   "execution_count": null,
   "id": "6c683ef5",
   "metadata": {},
   "outputs": [],
   "source": []
  },
  {
   "cell_type": "markdown",
   "id": "27ce97cb",
   "metadata": {},
   "source": [
    "2.13. Transformer le tableau a_array dans une liste.\n"
   ]
  },
  {
   "cell_type": "code",
   "execution_count": null,
   "id": "67791f81",
   "metadata": {},
   "outputs": [],
   "source": []
  },
  {
   "cell_type": "markdown",
   "id": "b06c776e",
   "metadata": {},
   "source": [
    "2.14. Utilisez la fonction fill pour creer un tableau de taille (2,5), avec la premier file de \"0\" et la deuxieme de \"1\"."
   ]
  },
  {
   "cell_type": "code",
   "execution_count": null,
   "id": "94cb2822",
   "metadata": {},
   "outputs": [],
   "source": []
  },
  {
   "cell_type": "markdown",
   "id": "81f0986c",
   "metadata": {},
   "source": [
    "2.15. Quel fonction obtient B quand elle est appliquee a A?\n"
   ]
  },
  {
   "cell_type": "code",
   "execution_count": 7,
   "id": "24f657cd",
   "metadata": {},
   "outputs": [],
   "source": [
    "A=np.array([[ 0., 1., 2.],[ 3., 4., 5.]])\n",
    "B=np.array([[ 0., 3.],[ 1., 4.],[ 2., 5.]])"
   ]
  },
  {
   "cell_type": "code",
   "execution_count": null,
   "id": "b1513b64",
   "metadata": {},
   "outputs": [],
   "source": []
  },
  {
   "cell_type": "markdown",
   "id": "f65c62f0",
   "metadata": {},
   "source": [
    "2.16.Transformez le tableau a dans un tableau de taille 6."
   ]
  },
  {
   "cell_type": "code",
   "execution_count": 8,
   "id": "b23d0b9f",
   "metadata": {},
   "outputs": [],
   "source": [
    "a = np.array([[1, 2, 3], [4, 5, 6]], float)"
   ]
  },
  {
   "cell_type": "code",
   "execution_count": null,
   "id": "e5f5a770",
   "metadata": {},
   "outputs": [],
   "source": []
  },
  {
   "cell_type": "markdown",
   "id": "7660cd29",
   "metadata": {},
   "source": [
    "2.17. Quelle taille aura np.concatenate((a,b,c))?"
   ]
  },
  {
   "cell_type": "code",
   "execution_count": 9,
   "id": "daec22fb",
   "metadata": {},
   "outputs": [],
   "source": [
    "a = np.array([1,2], float)\n",
    "b = np.array([3,4,5,6], float)\n",
    "c = np.array([7,8,9], float)"
   ]
  },
  {
   "cell_type": "code",
   "execution_count": null,
   "id": "e8af8c45",
   "metadata": {},
   "outputs": [],
   "source": []
  },
  {
   "cell_type": "markdown",
   "id": "f07974da",
   "metadata": {},
   "source": [
    "2.18. En utilisant la fonction <i>concatenate</i> a a et b, comment est-que on peut obtenir les tableaux c et d?"
   ]
  },
  {
   "cell_type": "code",
   "execution_count": 10,
   "id": "66788c45",
   "metadata": {},
   "outputs": [],
   "source": [
    "a = np.array([[1, 2], [3, 4]], float)\n",
    "b = np.array([[5, 6], [7,8]], float)\n",
    "c = np.array([[ 1., 2.],[ 3., 4.],[ 5., 6.],[ 7., 8.]])\n",
    "d = np.array([[ 1., 2., 5., 6.],[ 3., 4., 7., 8.]])"
   ]
  },
  {
   "cell_type": "code",
   "execution_count": null,
   "id": "5abbbad9",
   "metadata": {},
   "outputs": [],
   "source": []
  },
  {
   "cell_type": "markdown",
   "id": "5f6e7c86",
   "metadata": {},
   "source": [
    "2.19. Creez un tableau de type <i>float</i> de 1 a 5 avec la fonction arange."
   ]
  },
  {
   "cell_type": "code",
   "execution_count": null,
   "id": "6883cf08",
   "metadata": {},
   "outputs": [],
   "source": []
  },
  {
   "cell_type": "markdown",
   "id": "6e9408b9",
   "metadata": {},
   "source": [
    "2.20. Creez un tableau de type <i>int</i> avec les nombres pair de 1 a 10."
   ]
  },
  {
   "cell_type": "code",
   "execution_count": null,
   "id": "1dfa3341",
   "metadata": {},
   "outputs": [],
   "source": []
  },
  {
   "cell_type": "markdown",
   "id": "de19500f",
   "metadata": {},
   "source": [
    "2.21. Creez un tableau de type <i>int<i/> avec les nombres pair de 1 a 10."
   ]
  },
  {
   "cell_type": "code",
   "execution_count": null,
   "id": "6ef052fe",
   "metadata": {},
   "outputs": [],
   "source": []
  },
  {
   "cell_type": "markdown",
   "id": "aae56baf",
   "metadata": {},
   "source": [
    "2.22. Avec les fonctions <i>zeros<i/> et <i>ones<i/>, creez un tableau de taille (2,3) rempli de \"1\" et un tableau de taille 7 rempli de \"0\"."
   ]
  },
  {
   "cell_type": "code",
   "execution_count": null,
   "id": "703f267b",
   "metadata": {},
   "outputs": [],
   "source": []
  },
  {
   "cell_type": "markdown",
   "id": "b79262c0",
   "metadata": {},
   "source": [
    "2.23. Creez de deux facons differentes la matrice identité de taille 4 avec les fonctions <i>identity<i/> et <i>eye<i/>."
   ]
  },
  {
   "cell_type": "code",
   "execution_count": null,
   "id": "7a056286",
   "metadata": {},
   "outputs": [],
   "source": []
  },
  {
   "cell_type": "markdown",
   "id": "b32808b7",
   "metadata": {},
   "source": [
    "2.24. En utlisant des opérations mathématiques standard avec les tableaux a et b, obtenez les tableaux c, d, e."
   ]
  },
  {
   "cell_type": "code",
   "execution_count": 11,
   "id": "e3bd8cc8",
   "metadata": {},
   "outputs": [],
   "source": [
    "a = np.array([1,2,3], float)\n",
    "b = np.array([5,2,6], float)\n",
    "c = np.array([6., 4., 9.])\n",
    "d = np.array([-4., 0., -3.])\n",
    "e = np.array([5., 4., 216.])"
   ]
  },
  {
   "cell_type": "code",
   "execution_count": null,
   "id": "71f20fc3",
   "metadata": {},
   "outputs": [],
   "source": []
  },
  {
   "cell_type": "markdown",
   "id": "a0790d24",
   "metadata": {},
   "source": [
    "2.25. Corrigez l'erreur dans le code suivant."
   ]
  },
  {
   "cell_type": "code",
   "execution_count": 12,
   "id": "ae10d35d",
   "metadata": {},
   "outputs": [
    {
     "ename": "ValueError",
     "evalue": "operands could not be broadcast together with shapes (3,) (2,) ",
     "output_type": "error",
     "traceback": [
      "\u001b[0;31m---------------------------------------------------------------------------\u001b[0m",
      "\u001b[0;31mValueError\u001b[0m                                Traceback (most recent call last)",
      "\u001b[0;32m/tmp/ipykernel_56782/1257674220.py\u001b[0m in \u001b[0;36m<module>\u001b[0;34m\u001b[0m\n\u001b[1;32m      1\u001b[0m \u001b[0ma\u001b[0m \u001b[0;34m=\u001b[0m \u001b[0mnp\u001b[0m\u001b[0;34m.\u001b[0m\u001b[0marray\u001b[0m\u001b[0;34m(\u001b[0m\u001b[0;34m[\u001b[0m\u001b[0;36m1\u001b[0m\u001b[0;34m,\u001b[0m\u001b[0;36m2\u001b[0m\u001b[0;34m,\u001b[0m\u001b[0;36m3\u001b[0m\u001b[0;34m]\u001b[0m\u001b[0;34m,\u001b[0m \u001b[0mfloat\u001b[0m\u001b[0;34m)\u001b[0m\u001b[0;34m\u001b[0m\u001b[0;34m\u001b[0m\u001b[0m\n\u001b[1;32m      2\u001b[0m \u001b[0mb\u001b[0m \u001b[0;34m=\u001b[0m \u001b[0mnp\u001b[0m\u001b[0;34m.\u001b[0m\u001b[0marray\u001b[0m\u001b[0;34m(\u001b[0m\u001b[0;34m[\u001b[0m\u001b[0;36m4\u001b[0m\u001b[0;34m,\u001b[0m\u001b[0;36m5\u001b[0m\u001b[0;34m]\u001b[0m\u001b[0;34m,\u001b[0m \u001b[0mfloat\u001b[0m\u001b[0;34m)\u001b[0m\u001b[0;34m\u001b[0m\u001b[0;34m\u001b[0m\u001b[0m\n\u001b[0;32m----> 3\u001b[0;31m \u001b[0ma\u001b[0m \u001b[0;34m+\u001b[0m \u001b[0mb\u001b[0m\u001b[0;34m\u001b[0m\u001b[0;34m\u001b[0m\u001b[0m\n\u001b[0m",
      "\u001b[0;31mValueError\u001b[0m: operands could not be broadcast together with shapes (3,) (2,) "
     ]
    }
   ],
   "source": [
    "a = np.array([1,2,3], float)\n",
    "b = np.array([4,5], float)\n",
    "a + b"
   ]
  },
  {
   "cell_type": "markdown",
   "id": "0b9de19a",
   "metadata": {},
   "source": [
    "2.26. Creez un tableau a de type <i>float</i> de tel facon que:\n",
    "```    \n",
    ">>> np.ceil(a)\n",
    "array([ 2., 2., 2.])\n",
    "```"
   ]
  },
  {
   "cell_type": "code",
   "execution_count": null,
   "id": "eafb08b9",
   "metadata": {},
   "outputs": [],
   "source": []
  },
  {
   "cell_type": "markdown",
   "id": "45aabc32",
   "metadata": {},
   "source": [
    "2.27. Obtenez le tableau d'entiers arrondi de:\n"
   ]
  },
  {
   "cell_type": "code",
   "execution_count": 13,
   "id": "c4100055",
   "metadata": {},
   "outputs": [],
   "source": [
    "a = np.array([1.1, 1.5, 1.9], float)"
   ]
  },
  {
   "cell_type": "code",
   "execution_count": null,
   "id": "2546db10",
   "metadata": {},
   "outputs": [],
   "source": []
  },
  {
   "cell_type": "markdown",
   "id": "61c179e4",
   "metadata": {},
   "source": [
    "2.28. Remplacez les fonctions <i>f1<i/> et <i>f2<i/> de tel facon que:\n",
    "\n",
    "```\n",
    ">>> a.f1()\n",
    "9.0\n",
    ">>> a.f2()\n",
    "24.0\n",
    "```"
   ]
  },
  {
   "cell_type": "code",
   "execution_count": 14,
   "id": "9e7ccd5c",
   "metadata": {},
   "outputs": [],
   "source": [
    "a = np.array([2, 4, 3], float)"
   ]
  },
  {
   "cell_type": "code",
   "execution_count": null,
   "id": "0b9981f6",
   "metadata": {},
   "outputs": [],
   "source": []
  },
  {
   "cell_type": "markdown",
   "id": "537749e9",
   "metadata": {},
   "source": [
    "2.29. Creez un tableau a de facon que a.mean()= 4.0."
   ]
  },
  {
   "cell_type": "code",
   "execution_count": null,
   "id": "589ec9df",
   "metadata": {},
   "outputs": [],
   "source": []
  },
  {
   "cell_type": "markdown",
   "id": "867f4d00",
   "metadata": {},
   "source": [
    "2.30. Calculez la variance et déviation standard de a."
   ]
  },
  {
   "cell_type": "code",
   "execution_count": 15,
   "id": "b86272dd",
   "metadata": {},
   "outputs": [],
   "source": [
    "a = np.array([2, 4, 3], float)"
   ]
  },
  {
   "cell_type": "code",
   "execution_count": null,
   "id": "f32e2cd0",
   "metadata": {},
   "outputs": [],
   "source": []
  },
  {
   "cell_type": "markdown",
   "id": "17b94074",
   "metadata": {},
   "source": [
    "2.31. Calculez le terme minimal et maximal de a, et les indices correspondants. "
   ]
  },
  {
   "cell_type": "code",
   "execution_count": 16,
   "id": "1a4b2cee",
   "metadata": {},
   "outputs": [],
   "source": [
    "a = np.array([2, 1, 9, 3, 0], float)"
   ]
  },
  {
   "cell_type": "code",
   "execution_count": null,
   "id": "5caa21ae",
   "metadata": {},
   "outputs": [],
   "source": []
  },
  {
   "cell_type": "markdown",
   "id": "4dabad93",
   "metadata": {},
   "source": [
    "2.32. Calculez le produit élément par élément et le produit matriciel de a et b."
   ]
  },
  {
   "cell_type": "code",
   "execution_count": 17,
   "id": "c1fd4fe2",
   "metadata": {},
   "outputs": [],
   "source": [
    "a = np.array([1, 2, 3], float)\n",
    "b = np.array([0, 1, 1], float)"
   ]
  },
  {
   "cell_type": "code",
   "execution_count": null,
   "id": "8fd46a29",
   "metadata": {},
   "outputs": [],
   "source": []
  },
  {
   "cell_type": "markdown",
   "id": "cf12c63e",
   "metadata": {},
   "source": [
    "2.33. Creez un nombre aleatoire entre [0.0,1.0)."
   ]
  },
  {
   "cell_type": "code",
   "execution_count": null,
   "id": "28fbeda4",
   "metadata": {},
   "outputs": [],
   "source": []
  },
  {
   "cell_type": "markdown",
   "id": "227e1ac3",
   "metadata": {},
   "source": [
    "2.34. Creez un tableau aleatoire entre [0.0,1.0) de taille 5."
   ]
  },
  {
   "cell_type": "code",
   "execution_count": null,
   "id": "8c8eb8ad",
   "metadata": {},
   "outputs": [],
   "source": []
  },
  {
   "cell_type": "markdown",
   "id": "9a26fa14",
   "metadata": {},
   "source": [
    "2.35. Creez un nombre entier aleatoire entre 5 et 10."
   ]
  },
  {
   "cell_type": "code",
   "execution_count": null,
   "id": "1066647e",
   "metadata": {},
   "outputs": [],
   "source": []
  },
  {
   "cell_type": "markdown",
   "id": "6f0c21f9",
   "metadata": {},
   "source": [
    "<h2> Partie 3: Pandas </h2> "
   ]
  },
  {
   "cell_type": "markdown",
   "id": "ff08de1c",
   "metadata": {},
   "source": [
    "3.1. Importez pandas comme nom plus bref np."
   ]
  },
  {
   "cell_type": "code",
   "execution_count": null,
   "id": "978e95ad",
   "metadata": {},
   "outputs": [],
   "source": []
  },
  {
   "cell_type": "markdown",
   "id": "7c2bd8df",
   "metadata": {},
   "source": [
    "3.2. Importez les donnees fichier achats.csv et gardez-les dans un dataframe <i>df_csv<i/>."
   ]
  },
  {
   "cell_type": "code",
   "execution_count": null,
   "id": "51be6456",
   "metadata": {},
   "outputs": [],
   "source": []
  },
  {
   "cell_type": "markdown",
   "id": "45fe9ea5",
   "metadata": {},
   "source": [
    "3.3. Importez les donnees fichier achats.json et gardez-les dans un dataframe <i>df_json</i>. Est-ce que il y a quelque difference entre les deux dataframes?"
   ]
  },
  {
   "cell_type": "code",
   "execution_count": null,
   "id": "50029773",
   "metadata": {},
   "outputs": [],
   "source": []
  },
  {
   "cell_type": "markdown",
   "id": "15b7e300",
   "metadata": {},
   "source": [
    "3.4. Creez manuellement le meme dataframe et gardez-le en <i>df_m</i>. Appelez la colonne de prenoms 'Owner'."
   ]
  },
  {
   "cell_type": "code",
   "execution_count": null,
   "id": "45bcd7cd",
   "metadata": {},
   "outputs": [],
   "source": []
  },
  {
   "cell_type": "markdown",
   "id": "beadaed8",
   "metadata": {},
   "source": [
    "3.5. Changez la colonne d'indices pour la colonne 'Owner' avec la fonction set_index et imprimez le dataframe."
   ]
  },
  {
   "cell_type": "code",
   "execution_count": null,
   "id": "53ee9aeb",
   "metadata": {},
   "outputs": [],
   "source": []
  },
  {
   "cell_type": "markdown",
   "id": "344552d6",
   "metadata": {},
   "source": [
    "3.6. Changez le nom de la colonne 'apples' pour 'pommes'."
   ]
  },
  {
   "cell_type": "code",
   "execution_count": null,
   "id": "2800673d",
   "metadata": {},
   "outputs": [],
   "source": []
  },
  {
   "cell_type": "markdown",
   "id": "9294ae7f",
   "metadata": {},
   "source": [
    "3.7. Sauvegarez maintenant votre nouveau dataframe dans un fichier csv et json.\n"
   ]
  },
  {
   "cell_type": "code",
   "execution_count": null,
   "id": "c218047d",
   "metadata": {},
   "outputs": [],
   "source": []
  },
  {
   "cell_type": "markdown",
   "id": "dcc6812a",
   "metadata": {},
   "source": [
    "3.8. Importez le fichier \"IMDB-Movie-Data.csv\" dans un dataframe. Appelez-le 'movies_df'."
   ]
  },
  {
   "cell_type": "code",
   "execution_count": null,
   "id": "2eac3040",
   "metadata": {},
   "outputs": [],
   "source": []
  },
  {
   "cell_type": "markdown",
   "id": "bad18299",
   "metadata": {},
   "source": [
    "3.9. Utilisez la fonction <i>head</i> pour montrer les premieres rangees du dataframe."
   ]
  },
  {
   "cell_type": "code",
   "execution_count": null,
   "id": "089b4243",
   "metadata": {},
   "outputs": [],
   "source": []
  },
  {
   "cell_type": "markdown",
   "id": "3e7b3273",
   "metadata": {},
   "source": [
    "3.10. Maintenant, montrez les deux dernieres rangees du dataframe."
   ]
  },
  {
   "cell_type": "code",
   "execution_count": null,
   "id": "34cce799",
   "metadata": {},
   "outputs": [],
   "source": []
  },
  {
   "cell_type": "markdown",
   "id": "0feb6835",
   "metadata": {},
   "source": [
    "3.11. Calculez la taille du dataframe."
   ]
  },
  {
   "cell_type": "code",
   "execution_count": null,
   "id": "a21a703c",
   "metadata": {},
   "outputs": [],
   "source": []
  },
  {
   "cell_type": "markdown",
   "id": "6e252441",
   "metadata": {},
   "source": [
    "3.12. Utilisez la fonction <i>colums<i/> pour obtenir les noms des colonnes du dataframe."
   ]
  },
  {
   "cell_type": "code",
   "execution_count": null,
   "id": "93d760ac",
   "metadata": {},
   "outputs": [],
   "source": []
  },
  {
   "cell_type": "markdown",
   "id": "88ef7896",
   "metadata": {},
   "source": [
    "3.13. Utilisez la fonction <i>info</i>. De quel type est la colonne 'Year'? Et 'Rating'? Est-ce que il y a des rangées avec termes nuls?"
   ]
  },
  {
   "cell_type": "code",
   "execution_count": null,
   "id": "69087df3",
   "metadata": {},
   "outputs": [],
   "source": []
  },
  {
   "cell_type": "markdown",
   "id": "38db7a78",
   "metadata": {},
   "source": [
    "3.14. Cet ensemble de données ne contient pas de rangées répétées, mais il est toujours important de vérifier que vous n'agrégez pas de rangées répétées.\n",
    "\n",
    "Eliminez les rangées répétées du dataframe temp_df, dans lequel nous avons doublé simplement nos films DataFrame en l'ajoutant à lui-même :"
   ]
  },
  {
   "cell_type": "code",
   "execution_count": null,
   "id": "f0e6f8c2",
   "metadata": {},
   "outputs": [],
   "source": [
    "temp_df = movies_df.append(movies_df)\n",
    "\n",
    "temp_df.shape"
   ]
  },
  {
   "cell_type": "code",
   "execution_count": null,
   "id": "e081445c",
   "metadata": {},
   "outputs": [],
   "source": []
  },
  {
   "cell_type": "markdown",
   "id": "b351c513",
   "metadata": {},
   "source": [
    "3.15. Renommez la colonne 'Runtime (Minutes)' par 'Runtime', et la colonne 'Revenue (Millions)' par 'Revenue_millions' sans creer un nouveau dataframe (en utilisant le argument <i>inplace<i/>."
   ]
  },
  {
   "cell_type": "code",
   "execution_count": null,
   "id": "a7b5cb9f",
   "metadata": {},
   "outputs": [],
   "source": []
  },
  {
   "cell_type": "markdown",
   "id": "101c26fc",
   "metadata": {},
   "source": [
    "3.16. Changez le nom de toutes les colonnes pour etre en miniscule."
   ]
  },
  {
   "cell_type": "code",
   "execution_count": null,
   "id": "10b0a68b",
   "metadata": {},
   "outputs": [],
   "source": []
  },
  {
   "cell_type": "markdown",
   "id": "b8086b95",
   "metadata": {},
   "source": [
    "3.17. Eliminez les colonnes 'rank' et 'actors'."
   ]
  },
  {
   "cell_type": "code",
   "execution_count": null,
   "id": "4c8bf266",
   "metadata": {},
   "outputs": [],
   "source": []
  },
  {
   "cell_type": "markdown",
   "id": "049da165",
   "metadata": {},
   "source": [
    "3.18. En utilisant la fonction <i>is_null<i/> et <i>sum<i/>, calculez combien d'termes nuls il y a dans le dataframe."
   ]
  },
  {
   "cell_type": "code",
   "execution_count": null,
   "id": "02bf77b5",
   "metadata": {},
   "outputs": [],
   "source": []
  },
  {
   "cell_type": "markdown",
   "id": "a1edafa5",
   "metadata": {},
   "source": [
    "3.19. Elimines les files que contientent des valeurs nuls. Quelle-est la nouvelle taille du dataframe?"
   ]
  },
  {
   "cell_type": "code",
   "execution_count": null,
   "id": "e9115b0b",
   "metadata": {},
   "outputs": [],
   "source": []
  },
  {
   "cell_type": "markdown",
   "id": "c96daf44",
   "metadata": {},
   "source": [
    "3.20. Elimines les colonnes que contientent des valeurs nuls. Quelle-est la nouvelle taille du dataframe?"
   ]
  },
  {
   "cell_type": "code",
   "execution_count": null,
   "id": "04eb6824",
   "metadata": {},
   "outputs": [],
   "source": []
  },
  {
   "cell_type": "markdown",
   "id": "792a5802",
   "metadata": {},
   "source": [
    "3.21. Gardez la colonne 'revenue_millions' dans une nouvelle variable, appellez-la revenue. Calculez et gardez dans un variable revenue_moyenne le valour moyenne de la variable revenue."
   ]
  },
  {
   "cell_type": "code",
   "execution_count": null,
   "id": "9023742b",
   "metadata": {},
   "outputs": [],
   "source": []
  },
  {
   "cell_type": "markdown",
   "id": "3a5d0b14",
   "metadata": {},
   "source": [
    "3.22. Remplissez avec la moyenne les valeurs nuls en utilisant fillna()."
   ]
  },
  {
   "cell_type": "code",
   "execution_count": null,
   "id": "c7d78dc7",
   "metadata": {},
   "outputs": [],
   "source": []
  },
  {
   "cell_type": "markdown",
   "id": "8714e4ae",
   "metadata": {},
   "source": [
    "3.23. Suivez le meme process pour remplir les valeurs de la colonne 'metascore' avec sa moyenne."
   ]
  },
  {
   "cell_type": "code",
   "execution_count": null,
   "id": "4155ed35",
   "metadata": {},
   "outputs": [],
   "source": []
  },
  {
   "cell_type": "markdown",
   "id": "bdf3d95a",
   "metadata": {},
   "source": [
    "3.24. Utilisez la fonction <i>set_index<i/> pour selectioner comme indice la colonne 'title'."
   ]
  },
  {
   "cell_type": "code",
   "execution_count": null,
   "id": "0e2af30a",
   "metadata": {},
   "outputs": [],
   "source": []
  },
  {
   "cell_type": "markdown",
   "id": "d34e23a7",
   "metadata": {},
   "source": [
    "3.25. Selectionez avec l'aide de <i>loc</i> le film \"Prometheus\"."
   ]
  },
  {
   "cell_type": "code",
   "execution_count": null,
   "id": "51ce24b9",
   "metadata": {},
   "outputs": [],
   "source": []
  },
  {
   "cell_type": "markdown",
   "id": "87a07062",
   "metadata": {},
   "source": [
    "3.26. Selectionez avec l'aide de <i>iloc</i> le film \"Prometheus\"."
   ]
  },
  {
   "cell_type": "code",
   "execution_count": null,
   "id": "af162b78",
   "metadata": {},
   "outputs": [],
   "source": []
  },
  {
   "cell_type": "markdown",
   "id": "41a6bace",
   "metadata": {},
   "source": [
    "3.27. Maintenant, creez un sous-ensemble du dataframe qui contient seulement quelques rangees."
   ]
  },
  {
   "cell_type": "code",
   "execution_count": null,
   "id": "d2adb760",
   "metadata": {},
   "outputs": [],
   "source": []
  },
  {
   "cell_type": "markdown",
   "id": "340c65fa",
   "metadata": {},
   "source": [
    "3.28. Selectionez les rangees qui satisfaient la condition \"rating\">=8.6."
   ]
  },
  {
   "cell_type": "code",
   "execution_count": null,
   "id": "b7a9fe09",
   "metadata": {},
   "outputs": [],
   "source": []
  },
  {
   "cell_type": "markdown",
   "id": "a75c0bad",
   "metadata": {},
   "source": [
    "3.29. Creez une nouvelle colonne 'rating_category' qui a le valeur 'bon' si le valeur de 'rating'>=8.0 et 'mauvais' au cas contraire.\n",
    "Creez une fontion <i>rating_function(x)</i> qui retourne comme solution \"bon\" si x>=8.0 et \"mauvais\" au cas contraire."
   ]
  },
  {
   "cell_type": "code",
   "execution_count": null,
   "id": "34b866b1",
   "metadata": {},
   "outputs": [],
   "source": []
  },
  {
   "cell_type": "markdown",
   "id": "93d42de4",
   "metadata": {},
   "source": [
    "3.30. Creez une nouvelle colonne 'rating_category' qui a le valeur 'bon' si le valeur de 'rating'>=8.0 et 'mauvais' au cas contraire.\n",
    "Utilisez la fonction <i>apply()<i/>."
   ]
  },
  {
   "cell_type": "code",
   "execution_count": null,
   "id": "2952a73d",
   "metadata": {},
   "outputs": [],
   "source": []
  }
 ],
 "metadata": {
  "kernelspec": {
   "display_name": "Python 3 (ipykernel)",
   "language": "python",
   "name": "python3"
  },
  "language_info": {
   "codemirror_mode": {
    "name": "ipython",
    "version": 3
   },
   "file_extension": ".py",
   "mimetype": "text/x-python",
   "name": "python",
   "nbconvert_exporter": "python",
   "pygments_lexer": "ipython3",
   "version": "3.8.10"
  }
 },
 "nbformat": 4,
 "nbformat_minor": 5
}
