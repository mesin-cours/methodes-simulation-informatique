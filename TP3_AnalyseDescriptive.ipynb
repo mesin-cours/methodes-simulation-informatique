{
 "cells": [
  {
   "cell_type": "markdown",
   "id": "bd2e3d9d",
   "metadata": {
    "tags": []
   },
   "source": [
    "<h1 style=\"font-size:3rem;color:#6667AB;\">TP 3</h1>\n",
    "\n",
    "## Méthodes de Simulation Informatique\n",
    "### Amaya Nogales Gómez\n",
    "\n",
    "<h2> Analyse descriptive basique. </h2> \n"
   ]
  },
  {
   "cell_type": "code",
   "execution_count": 8,
   "id": "4f2ce6cd",
   "metadata": {},
   "outputs": [],
   "source": [
    "import numpy as np\n",
    "import pandas as pd\n",
    "import matplotlib.pyplot as plt # for plotting stuff\n",
    "from sklearn import metrics\n",
    "from sklearn.metrics import confusion_matrix\n"
   ]
  },
  {
   "cell_type": "markdown",
   "id": "4a25ced4",
   "metadata": {},
   "source": [
    "1-Tout d'abord, nous importons la base de données COMPAS utilisé dans l'analyse Propublica \"propublica.csv\".\n",
    "\n",
    "2-Quelle-est la taille de la base de données?\n",
    "\n",
    "3-Importez la base de données \"propublica-violent.csv\".\n",
    "\n",
    "4-Quelle-est la taille de la base de données?\n",
    "\n",
    "Pour la base de données \"propublica.csv\":\n",
    "\n",
    "5- Créez un diagramme à barres pour la variable $age\\_cat$.\n",
    "\n",
    "6- Tracez un camembert pour la variable $score_text$.\n",
    "\n",
    "7-Créez une nouvelle variable $age\\_interval$ en agrupant la variable $age$ en plusieurs intervals (au moins 4) de different amplitude.\n",
    "\n",
    "8- Créez une histogramme pour la variable $age\\_interval$. Attention :l'aire des rectangles doit être égale à la fréquence.\n",
    "\n",
    "9-Créez un diagrame à barres horizontal pour le score compas ($decile\\_score$) pour les accusés blancs (caucasiens) et les accusés noirs (afro-américains) séparément.\n",
    "\n",
    "10-Répétez la question 9 pour le $score\\_text$.\n",
    "\n",
    "11-Répétez la question 9 pour le $sexe$.\n",
    "  \n",
    "12- Calculez un tableau de frequences absolues, relatives, et cumulees pour la base de données propublica-violent et la variable $decile\\_score$.\n",
    "\n",
    "13- Fournir les mêmes tableaux pour les accusés hommes et femmes séparément pour la base de données propublica-violent et la variable $decile\\_score$."
   ]
  },
  {
   "cell_type": "code",
   "execution_count": null,
   "id": "96d65651",
   "metadata": {},
   "outputs": [],
   "source": []
  }
 ],
 "metadata": {
  "kernelspec": {
   "display_name": "Python 3 (ipykernel)",
   "language": "python",
   "name": "python3"
  },
  "language_info": {
   "codemirror_mode": {
    "name": "ipython",
    "version": 3
   },
   "file_extension": ".py",
   "mimetype": "text/x-python",
   "name": "python",
   "nbconvert_exporter": "python",
   "pygments_lexer": "ipython3",
   "version": "3.8.10"
  }
 },
 "nbformat": 4,
 "nbformat_minor": 5
}
