{
 "cells": [
  {
   "cell_type": "markdown",
   "id": "dca7526d",
   "metadata": {
    "tags": []
   },
   "source": [
    "<h1 style=\"font-size:3rem;color:#A3623B;\">Cours 2</h1>"
   ]
  },
  {
   "cell_type": "markdown",
   "id": "d287b928-25e4-4228-89e2-2dcd29605b9b",
   "metadata": {},
   "source": [
    "<h2> Part 1: Synthetic data</h2>"
   ]
  },
  {
   "cell_type": "markdown",
   "id": "accd2be8-623c-4853-a9fe-1ff9b3c096ef",
   "metadata": {},
   "source": [
    "<h3> 1.1. Synthetic data</h3>"
   ]
  },
  {
   "cell_type": "code",
   "execution_count": 1,
   "id": "2ec4a323-a4f1-42c5-9d37-57b9512e7ad4",
   "metadata": {},
   "outputs": [],
   "source": [
    "#we import all the required libraries\n",
    "import numpy as np\n",
    "import matplotlib.pyplot as plt # for plotting stuff\n",
    "import pandas as pd\n",
    "import math\n",
    "from random import seed, shuffle\n",
    "from scipy.stats import multivariate_normal # for generating synthetic data \n",
    "from sklearn import datasets #For real datasets\n",
    "SEED = 1122334455\n",
    "seed(SEED) # set the random seed so that the random permutations can be reproduced again\n",
    "np.random.seed(SEED)"
   ]
  },
  {
   "cell_type": "code",
   "execution_count": 2,
   "id": "a468a497",
   "metadata": {},
   "outputs": [],
   "source": [
    "def generate_synthetic_data():\n",
    "\n",
    "    \"\"\"\n",
    "        Code for generating the synthetic data.\n",
    "        We will have two non-sensitive features and one sensitive feature.\n",
    "        A sensitive feature value of 0.0 means the example is considered to be in protected group (e.g., female) and 1.0 means it's in non-protected group (e.g., male).\n",
    "    \"\"\"\n",
    "\n",
    "    n_samples = 60 # generate these many data points per class\n",
    "    \n",
    "    def gen_gaussian(size, mean_in, cov_in, class_label):\n",
    "        nv = multivariate_normal(mean = mean_in, cov = cov_in)\n",
    "        X = nv.rvs(size)\n",
    "        y = np.ones(size, dtype=int) * class_label\n",
    "        return nv,X,y\n",
    "\n",
    "    \"\"\" Generate the features randomly \"\"\"\n",
    "    # We will generate one gaussian cluster for each class\n",
    "    mu1, sigma1 = [0, 0], [[1, 0], [0, 1]]\n",
    "    mu2, sigma2 = [2/math.sqrt(2),2/math.sqrt(2)], [[1, 0], [0, 1]]\n",
    "    nv1, X1, y1= gen_gaussian(int(n_samples), mu1, sigma1, 1) # positive class\n",
    "    nv2, X2, y2= gen_gaussian(int(n_samples),mu2, sigma2, 0) # negative class\n",
    "    \n",
    "    \n",
    "    #Outliers\n",
    "    mu3, sigma3 = [10/math.sqrt(2),10/math.sqrt(2)], [[0.001, 0], [0, 0.001]]\n",
    "    nv3, X3, y3= gen_gaussian(int(n_samples*0.2), mu3, sigma3, 1) # positive class\n",
    "    \n",
    "\n",
    "    # join the positive and negative class clusters\n",
    "    X = np.vstack((X1, X2, X3))\n",
    "    y = np.hstack((y1, y2, y3))\n",
    "\n",
    "    \n",
    "\n",
    "    return X,y"
   ]
  },
  {
   "cell_type": "code",
   "execution_count": 3,
   "id": "59c689e4",
   "metadata": {},
   "outputs": [],
   "source": [
    "X_syn, y_syn = generate_synthetic_data() "
   ]
  },
  {
   "cell_type": "code",
   "execution_count": 4,
   "id": "47c52bab",
   "metadata": {},
   "outputs": [
    {
     "name": "stdout",
     "output_type": "stream",
     "text": [
      "[[-1.11015162  0.41104982]\n",
      " [-1.02758789  0.452829  ]\n",
      " [-1.30839237  0.0498376 ]\n",
      " [-0.81137062  0.62326998]\n",
      " [ 1.82516551  1.39334791]\n",
      " [ 0.35835312  0.2699098 ]\n",
      " [ 0.89433234 -0.21202564]\n",
      " [ 0.00865932 -1.23052156]\n",
      " [ 0.2334134   0.09844061]\n",
      " [ 1.12061928 -1.49803815]\n",
      " [ 0.52402711  0.86611926]\n",
      " [-0.18437893  1.42276887]\n",
      " [-0.39299771  0.37079718]\n",
      " [-0.07506404 -1.63431666]\n",
      " [ 0.99772952  0.03704751]\n",
      " [-0.98605042 -0.29367937]\n",
      " [-2.59678567 -0.80621659]\n",
      " [-0.62764908  1.369959  ]\n",
      " [ 0.47483058 -1.86405561]\n",
      " [ 0.31421296 -0.69044608]\n",
      " [-0.62154831 -0.79977917]\n",
      " [-1.70433117 -0.73443226]\n",
      " [ 0.7974807   0.29273339]\n",
      " [-1.08556895  0.94395472]\n",
      " [ 0.27849073 -0.67253229]\n",
      " [-0.57431455 -0.67193542]\n",
      " [-1.59136628  0.27244939]\n",
      " [ 1.36673444  0.64622885]\n",
      " [ 1.28247632  0.69439464]\n",
      " [-1.93844755  0.16340221]\n",
      " [ 0.27312895 -0.07469846]\n",
      " [-0.51782289 -0.52725129]\n",
      " [ 1.71501256  1.56066132]\n",
      " [-0.63423497  0.23141099]\n",
      " [ 0.13195827 -1.18546936]\n",
      " [-0.10766336 -0.02107294]\n",
      " [-0.24265376 -1.44065326]\n",
      " [-1.01514215  1.2165844 ]\n",
      " [ 2.05244775  0.74217875]\n",
      " [ 1.06833786  0.41383885]\n",
      " [ 0.48047559 -0.87034338]\n",
      " [-0.19987787 -0.38107006]\n",
      " [-0.57406639  0.56157698]\n",
      " [-0.61759146  0.5580082 ]\n",
      " [ 0.43796056  0.88221969]\n",
      " [-1.77508032  0.68955917]\n",
      " [ 0.98385941  0.55480118]\n",
      " [-2.90592364 -1.41265554]\n",
      " [-0.7311582  -0.51308118]\n",
      " [-0.3142176   1.41431242]\n",
      " [ 2.04353925  0.40902824]\n",
      " [ 1.34896277  0.26095422]\n",
      " [-0.76075244 -1.1806621 ]\n",
      " [-0.56354484 -0.33707916]\n",
      " [-0.59301737 -0.38828453]\n",
      " [ 0.36011404 -0.56522819]\n",
      " [-1.81311744 -0.86720443]\n",
      " [-0.33274982 -0.35427024]\n",
      " [-0.11331987 -1.74865363]\n",
      " [ 1.0216004   0.572418  ]\n",
      " [ 1.50684828  0.79269465]\n",
      " [ 1.17719764  2.05860256]\n",
      " [ 0.34893497  0.84381559]\n",
      " [-0.06899606  1.34092073]\n",
      " [ 0.1464238   1.90532083]\n",
      " [ 1.75235672  0.84184694]\n",
      " [ 1.392269    2.00575877]\n",
      " [-0.17581008  0.73236963]\n",
      " [ 1.60827114 -0.31610254]\n",
      " [ 0.14954297  1.72479849]\n",
      " [ 3.75024179  2.0360238 ]\n",
      " [ 1.11254918  0.45739315]\n",
      " [ 0.75815459  1.44551179]\n",
      " [ 2.51271778 -0.22853116]\n",
      " [ 3.12578713  1.72065323]\n",
      " [ 0.6283393   0.33915887]\n",
      " [ 0.55238542  0.70834363]\n",
      " [ 1.76492041  1.12900688]\n",
      " [-0.07772876  1.63155387]\n",
      " [ 0.76822429  0.74264403]\n",
      " [ 1.88424616  1.92255972]\n",
      " [ 1.44722326  1.67481526]\n",
      " [ 0.54849881  1.16120374]\n",
      " [ 1.9274381   0.2131342 ]\n",
      " [-0.49065528  0.9736337 ]\n",
      " [ 0.46752663  0.06588483]\n",
      " [ 2.73454644 -0.45740982]\n",
      " [ 1.40621255  0.67317351]\n",
      " [ 0.50992396 -0.26549367]\n",
      " [ 1.88019124 -0.36812475]\n",
      " [ 0.17082623 -0.14405819]\n",
      " [ 1.8172005   2.38263268]\n",
      " [ 0.54041548  2.38804156]\n",
      " [ 3.06513553  1.86764993]\n",
      " [ 2.02226034  1.09258318]\n",
      " [ 0.37692848  1.29944897]\n",
      " [ 1.56231633  1.83457431]\n",
      " [ 0.86893083  1.36432389]\n",
      " [ 2.19348784  3.44102694]\n",
      " [ 1.94685671  2.41222528]\n",
      " [ 0.74847111  2.89999168]\n",
      " [ 0.63429168  2.47682847]\n",
      " [ 0.56003297  0.27565798]\n",
      " [ 0.3642283   0.55178308]\n",
      " [ 0.23452632  2.20263796]\n",
      " [ 2.01905766  2.34268225]\n",
      " [ 0.58416958  3.16309204]\n",
      " [ 1.41153868  0.37909596]\n",
      " [-0.28982121  1.0385213 ]\n",
      " [ 1.04470007  2.72042995]\n",
      " [ 2.51897868  0.76001489]\n",
      " [ 2.14180942  1.57331017]\n",
      " [ 1.52225629  1.42054942]\n",
      " [ 0.03067745 -0.6052776 ]\n",
      " [ 1.66569414  0.70445773]\n",
      " [ 0.46385469  0.79270474]\n",
      " [ 0.69034647  2.8552495 ]\n",
      " [ 0.78438681  2.96065893]\n",
      " [ 1.32075002  1.53610155]\n",
      " [ 3.26074501  3.04883389]\n",
      " [ 7.06708425  7.13310789]\n",
      " [ 7.10106066  7.13033401]\n",
      " [ 7.10153536  7.04458595]\n",
      " [ 7.11336187  7.08641464]\n",
      " [ 7.08515296  7.08744703]\n",
      " [ 7.09228346  7.09916564]\n",
      " [ 7.02308525  7.11766448]\n",
      " [ 7.1752334   7.10103962]\n",
      " [ 7.1061728   7.07401366]\n",
      " [ 7.06599227  7.07590463]\n",
      " [ 7.09579509  7.05439405]\n",
      " [ 7.08291252  7.08705403]]\n",
      "[1 1 1 1 1 1 1 1 1 1 1 1 1 1 1 1 1 1 1 1 1 1 1 1 1 1 1 1 1 1 1 1 1 1 1 1 1\n",
      " 1 1 1 1 1 1 1 1 1 1 1 1 1 1 1 1 1 1 1 1 1 1 1 0 0 0 0 0 0 0 0 0 0 0 0 0 0\n",
      " 0 0 0 0 0 0 0 0 0 0 0 0 0 0 0 0 0 0 0 0 0 0 0 0 0 0 0 0 0 0 0 0 0 0 0 0 0\n",
      " 0 0 0 0 0 0 0 0 0 1 1 1 1 1 1 1 1 1 1 1 1]\n"
     ]
    }
   ],
   "source": [
    "print(X_syn)\n",
    "print(y_syn)"
   ]
  },
  {
   "cell_type": "code",
   "execution_count": 4,
   "id": "2773b3c4",
   "metadata": {},
   "outputs": [
    {
     "data": {
      "image/png": "[encoded data removed]",
      "text/plain": [
       "<Figure size 432x288 with 1 Axes>"
      ]
     },
     "metadata": {
      "needs_background": "light"
     },
     "output_type": "display_data"
    }
   ],
   "source": [
    "plt.scatter(X_syn[y_syn==1][:, 0], X_syn[y_syn==1][:, 1], color='#378661', marker='x', s=30, linewidth=1.5, label= \"Class +1\")\n",
    "plt.scatter(X_syn[y_syn==0][:, 0], X_syn[y_syn==0][:, 1], color='#A73730', marker='x', s=30, linewidth=1.5, label = \"Class -1\")\n",
    "\n",
    "\n",
    "plt.legend(loc=2, fontsize=10)\n",
    "\n",
    "plt.show()"
   ]
  },
  {
   "cell_type": "code",
   "execution_count": null,
   "id": "3a6dad43",
   "metadata": {},
   "outputs": [],
   "source": []
  }
 ],
 "metadata": {
  "kernelspec": {
   "display_name": "Python 3",
   "language": "python",
   "name": "python3"
  },
  "language_info": {
   "codemirror_mode": {
    "name": "ipython",
    "version": 3
   },
   "file_extension": ".py",
   "mimetype": "text/x-python",
   "name": "python",
   "nbconvert_exporter": "python",
   "pygments_lexer": "ipython3",
   "version": "3.10.2"
  }
 },
 "nbformat": 4,
 "nbformat_minor": 5
}
