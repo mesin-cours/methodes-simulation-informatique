{
 "cells": [
  {
   "cell_type": "markdown",
   "id": "499ec93f",
   "metadata": {},
   "source": [
    "<h1 style=\"font-size:3rem;color:#6667AB;\">TP 2</h1>\n",
    "\n",
    "## Méthodes de Simulation Informatique\n",
    "### Amaya Nogales Gómez\n",
    "\n",
    "<h2> Partie 1: Base de données réels </h2> \n",
    "<h3> 1.1. Adult </h3> \n"
   ]
  },
  {
   "cell_type": "markdown",
   "id": "e956024c",
   "metadata": {},
   "source": [
    "1. Visitez la page web du UCI Machine Learning repository et cherchez la base de donnees reel Adult."
   ]
  },
  {
   "cell_type": "markdown",
   "id": "dec2c80c",
   "metadata": {},
   "source": [
    "2. Selon la description, quel-est l'etiquette a predire? Combien de variables a-t-il?"
   ]
  },
  {
   "cell_type": "markdown",
   "id": "5dc09b2d",
   "metadata": {},
   "source": [
    "3. Telechargez le fichier adult.data et chargez le comme un dataframe. Quel dimension a-t-il?\n"
   ]
  },
  {
   "cell_type": "markdown",
   "id": "0162a7ff",
   "metadata": {},
   "source": [
    "4. Creez vous meme la colonne avec les noms de variables, comme defini dans la page d'origine de la base de donnees. Nommez 'etiquette' a la colonne qui denote l'etiquette a predire."
   ]
  },
  {
   "cell_type": "markdown",
   "id": "34dca470",
   "metadata": {},
   "source": [
    "5. Changez les valeurs de la colonne 'etiquette' de la facon suivant:\n",
    "    1 si etiquette='>50K', \n",
    "    -1 si etiquette='<=50K'"
   ]
  },
  {
   "cell_type": "markdown",
   "id": "28c08d5a",
   "metadata": {},
   "source": [
    "6. Decrire le type de variables de la base de donnees. Combien variables continues? et categorielles?"
   ]
  },
  {
   "cell_type": "markdown",
   "id": "44d7507a",
   "metadata": {},
   "source": [
    "7. Binarizez chaque variables categorielle en le nombre necessaire de variables binaires."
   ]
  },
  {
   "cell_type": "markdown",
   "id": "a9f2ece7",
   "metadata": {},
   "source": [
    "8. Calculez le moyenne de chaque variable continue."
   ]
  },
  {
   "cell_type": "markdown",
   "id": "ba1d3475",
   "metadata": {},
   "source": [
    "9. Normalizez chaque variable continue."
   ]
  },
  {
   "cell_type": "markdown",
   "id": "b02aa149",
   "metadata": {},
   "source": [
    "10. Recalculez le moyenne des variables continues. Sont-elles les memes que dans l'exercise 8?"
   ]
  },
  {
   "cell_type": "markdown",
   "id": "087f3ff8",
   "metadata": {},
   "source": [
    "<h3> 1.2. Thyroid Disease </h3> "
   ]
  },
  {
   "cell_type": "markdown",
   "id": "bd3f5745",
   "metadata": {},
   "source": [
    "1. Visitez la page web du UCI Machine Learning repository et cherchez la base de donnees reel Thyroid Disease."
   ]
  },
  {
   "cell_type": "markdown",
   "id": "4645b3a4",
   "metadata": {},
   "source": [
    "2. Selon la description, quel-est l'etiquette a predire? Combien de variables a-t-il? C'est une probleme de classification binaire?"
   ]
  },
  {
   "cell_type": "markdown",
   "id": "b4bf021d",
   "metadata": {},
   "source": [
    "3. Telechargez le fichier allhypo.data. Avant de le chargez comme un dataframe, il faut modifier les valeurs manquants. Pour faire ca, il faudra ouvrir le fichier dans un editeur de texte et remplacer touts les valeurs '?' pour '', c'est a dire pour un valeur vide. Chargez-le comme un dataframe. Quel dimension a-t-il?\n"
   ]
  },
  {
   "cell_type": "markdown",
   "id": "4991a250",
   "metadata": {},
   "source": [
    "4. Creez vous meme la colonne avec les noms de variables, comme defini dans la page d'origine de la base de donnees. Nommez 'etiquette' a la colonne qui denote l'etiquette a predire."
   ]
  },
  {
   "cell_type": "markdown",
   "id": "8a356653",
   "metadata": {},
   "source": [
    "5. Decrire le type de variables de la base de donnees. Combien variables continues? et categorielles?"
   ]
  },
  {
   "cell_type": "markdown",
   "id": "4d3aaf88",
   "metadata": {},
   "source": [
    "6. Est-ce que il y a de valeur manquants? Combien au total? Combien dans chaque variable?"
   ]
  },
  {
   "cell_type": "markdown",
   "id": "f9c29351",
   "metadata": {},
   "source": [
    "7. Calculez le moyenne de chaque variable continue."
   ]
  },
  {
   "cell_type": "markdown",
   "id": "2a87ead5",
   "metadata": {},
   "source": [
    "8. Modifiez la base de donnees de la facon suivant. Pour les variables contenant des valeurs manquants, si la variable est categorielle, eliminez tous les valeurs manquants (imputation). Si la variable est continue, remplacez les valeurs manquants avec la moyenne de celle-ci."
   ]
  },
  {
   "cell_type": "markdown",
   "id": "558b37a1",
   "metadata": {},
   "source": [
    "9. Recalculez le moyenne des variables continues. Sont-elles les memes que dans l'exercise 7?"
   ]
  },
  {
   "cell_type": "markdown",
   "id": "ff2bd5b5",
   "metadata": {},
   "source": [
    "<h2> Partie 2: Base de données synthétiques type A</h2> "
   ]
  },
  {
   "cell_type": "markdown",
   "id": "f06d6803",
   "metadata": {},
   "source": [
    "<h3> 2.1. Type A </h3> "
   ]
  },
  {
   "cell_type": "markdown",
   "id": "e8c7bd30",
   "metadata": {},
   "source": [
    "1. Simulez une base de données synthétiques à partir de deux distributions Gaussian: une pour chaque classe (+1 et -1, ou 1 et 0 en python). Chaque classe a la matrice d'identité comme covariance. La moyenne pour la classe positive est l'origine, et la moyenne de la classe negative est $(2/\\sqrt(d),...,2/\\sqrt(d))$. La taille de chaque classe est n=60 et la dimension d=5."
   ]
  },
  {
   "cell_type": "markdown",
   "id": "f47f39a6",
   "metadata": {},
   "source": [
    "2. Contaminez maintenant votre base de données avec des données aberrantes. La taille de données aberrantes est $10\\%$ de taille total de la base de données et ils appartient qu'a la classe positive. Ils suivent une distribution Gaussian avec matrice de covariance 0.001 fois la matrice identité et moyenne $(10/\\sqrt(d),...,10/\\sqrt(d))$."
   ]
  },
  {
   "cell_type": "markdown",
   "id": "5b095adb",
   "metadata": {},
   "source": [
    "3. Imprimez les valeurs et etiquette de votre base de données."
   ]
  },
  {
   "cell_type": "markdown",
   "id": "60cceb71",
   "metadata": {},
   "source": [
    "4. Simulez de nouveau la base de donnee de l'exercise 1. Est-ce que vous obtenez les memes valeurs? Pourquoi? Qu'est-ce qu'il faudra fair pour obtenir toujour les memes valeurs?"
   ]
  },
  {
   "cell_type": "markdown",
   "id": "bf40eee8",
   "metadata": {},
   "source": [
    "<h3> 2.2. Type B </h3> "
   ]
  },
  {
   "cell_type": "markdown",
   "id": "70578291",
   "metadata": {},
   "source": [
    "1. Simulez une base de données synthétiques à partir de deux distributions Gaussian: une pour chaque classe (+1 et -1, ou 1 et 0 en python). Chaque classe a la matrice d'identité comme covariance. La moyenne pour la classe positive est l'origine, et la moyenne de la classe negative est $(2/\\sqrt(d),...,2/\\sqrt(d))$. La taille de chaque classe est n=60 et la dimension d=2."
   ]
  },
  {
   "cell_type": "markdown",
   "id": "77b3ca03",
   "metadata": {},
   "source": [
    "2. Contaminez maintenant votre base de données avec des données aberrantes. La taille de données aberrantes est $10\\%$ de taille total de la base de données et ils appartient aux deux classes, donc $0.1n$ dans la classe positive et $0.1n$ dans la classe negative. Ils suivent une distribution Gaussian avec matrice de covariance 100 fois la matrice identité. Les données aberrantes de la classe positive ont comme moyenne l'origine et celles-ci de la classe negative $(2/\\sqrt(d),...,2/\\sqrt(d))$."
   ]
  },
  {
   "cell_type": "markdown",
   "id": "2f972c03",
   "metadata": {},
   "source": [
    "<h2> Partie 3: Extra</h2> "
   ]
  },
  {
   "cell_type": "markdown",
   "id": "9e8ac3d7",
   "metadata": {},
   "source": [
    "1. Visitez la page web du Kaggle, cherhez une base de données qui contient des variables categorielles et annalisez-le comme dans la partie 1.1 avec <i>Adult</i>."
   ]
  },
  {
   "cell_type": "markdown",
   "id": "5e81ec17",
   "metadata": {},
   "source": [
    "2. Visitez la page web du Kaggle, cherhez une base de données qui contient des valeurs manquants et annalisez-le comme dans la partie 1.2 avec <i>Thyroid disease</i>."
   ]
  }
 ],
 "metadata": {
  "kernelspec": {
   "display_name": "Python 3 (ipykernel)",
   "language": "python",
   "name": "python3"
  },
  "language_info": {
   "codemirror_mode": {
    "name": "ipython",
    "version": 3
   },
   "file_extension": ".py",
   "mimetype": "text/x-python",
   "name": "python",
   "nbconvert_exporter": "python",
   "pygments_lexer": "ipython3",
   "version": "3.8.10"
  }
 },
 "nbformat": 4,
 "nbformat_minor": 5
}
