{
 "cells": [
  {
   "cell_type": "markdown",
   "id": "ec2b0429",
   "metadata": {},
   "source": [
    "<h1 style=\"font-size:3rem;color:#6667AB;\">TP 4</h1>\n",
    "\n",
    "## Méthodes de Simulation Informatique\n",
    "### Amaya Nogales Gómez\n",
    "\n",
    "<h2> Apprentissage supervisé </h2> "
   ]
  },
  {
   "cell_type": "markdown",
   "id": "a3892edf",
   "metadata": {},
   "source": [
    "<h2> Partie 2: The kernel trick. Separation non lineare.</h2>\n",
    "\n",
    "Si les données ne sont pas linéairement séparables dans l'espace d'origine, nous pourrions alors appliquer des transformations aux données, qui mappent les données de l'espace d'origine dans un espace de caractéristiques de dimension supérieure, également appelée astuce du noyau.\n",
    "\n",
    "L'objectif est qu'après la transformation vers l'espace de dimension supérieure, les classes deviennent linéairement séparables dans cet espace de caractéristiques de dimension supérieure.\n",
    "\n",
    "Nous pouvons ensuite ajuster une frontière de décision pour séparer les classes et faire des prédictions. La frontière de décision sera un hyperplan dans cet espace de dimension supérieure.\n",
    "\n",
    "Puisqu'il est difficile de visualiser des données de grande dimension, nous nous concentrons d'abord sur quelques exemples de $\\mathbb{R}\\rightarrow\\mathbb{R}^2$ transformations.\n",
    "\n"
   ]
  },
  {
   "cell_type": "code",
   "execution_count": 1,
   "id": "ba5c8a35",
   "metadata": {},
   "outputs": [],
   "source": [
    "from sklearn.svm import SVC\n",
    "import numpy as np\n",
    "import matplotlib.pyplot as plt\n",
    "from sklearn import svm, datasets, metrics\n",
    "from sklearn.datasets import make_circles\n",
    "import glob\n",
    "import os\n",
    "from mpl_toolkits.mplot3d import Axes3D\n",
    "import IPython.display as IPdisplay\n",
    "import pandas as pd\n",
    "import random \n",
    "import math\n",
    "from PIL import Image\n",
    "plt.rcParams.update({\n",
    "    \"text.usetex\": True,\n",
    "    \"font.family\": \"sans-serif\",\n",
    "    \"font.sans-serif\": [\"Helvetica\"]})"
   ]
  },
  {
   "cell_type": "markdown",
   "id": "3d75634b",
   "metadata": {},
   "source": [
    "Dans cet exemple, nous traçons d'abord nos points de données d'origine."
   ]
  },
  {
   "cell_type": "code",
   "execution_count": 2,
   "id": "cd314681",
   "metadata": {},
   "outputs": [
    {
     "data": {
      "image/png": "[encoded data removed]",
      "text/plain": [
       "<Figure size 432x288 with 1 Axes>"
      ]
     },
     "metadata": {
      "needs_background": "light"
     },
     "output_type": "display_data"
    }
   ],
   "source": [
    "X1=np.linspace(-5,5,10)\n",
    "Y1=np.array([1,1,1,0,0,0,0,1,1,1])\n",
    "C=np.array([2,2,2,2,2,2,2,2,2,2])\n",
    "fig = plt.figure()\n",
    "ax = fig.add_subplot(111)\n",
    "# dessiner lignes\n",
    "xmin = -6\n",
    "xmax = 6\n",
    "y = 2\n",
    "height = 1\n",
    "ax.set_xlim(xmin,xmax)\n",
    "ax.set_ylim(y-2,y+2)\n",
    "\n",
    "plt.hlines(y, xmin, xmax,'k',linewidth=0.5)\n",
    "plt.vlines(xmin, 1.8, 2.2,'k')\n",
    "plt.vlines(xmax, 1.8, 2.2,'k')\n",
    "# dessiner points sur la ligne\n",
    "\n",
    "plt.vlines(0, 1.8, 2.2,'k')\n",
    "plt.text(-0.2,1.5,r\"$0$\",fontsize=15)\n",
    "plt.text(-0.2,1,r\"$x_1$\",fontsize=15)\n",
    "\n",
    "\n",
    "plt.plot(X1[Y1==1],C[Y1==1], 'o', ms = 15, color='#FFB9BA')\n",
    "plt.plot(X1[Y1==0],C[Y1==0], 's', ms = 15, color='#714A41')\n",
    "\n",
    "\n",
    "\n",
    "\n",
    "plt.axis('off')\n",
    "plt.show()\n",
    "\n",
    "#plt.savefig('line.pdf')"
   ]
  },
  {
   "cell_type": "markdown",
   "id": "fc55015a",
   "metadata": {},
   "source": [
    "Dans $\\mathbb{R}$ (dimension 1), ces données ne sont pas linéairement séparables, mais après application de l'astuce du noyau, avec $\\phi(x_1)=(x_1,x_1^2)$ et en ajoutant cette seconde dimension à notre espace de caractéristiques, les classes deviennent linéairement séparables.\n",
    "\n",
    "Bien que sklearn ait la propriété de changer le noyau directement avec le paramètre \"kernel\", nous allons faire la transformation nous-mêmes puis résoudre le SVM pour les données transformées."
   ]
  },
  {
   "cell_type": "code",
   "execution_count": 3,
   "id": "1aecd65a",
   "metadata": {},
   "outputs": [
    {
     "data": {
      "image/png": "[encoded data removed]",
      "text/plain": [
       "<Figure size 432x288 with 1 Axes>"
      ]
     },
     "metadata": {
      "needs_background": "light"
     },
     "output_type": "display_data"
    },
    {
     "name": "stdout",
     "output_type": "stream",
     "text": [
      "Accuracy of 100.00\n"
     ]
    }
   ],
   "source": [
    "X1_p=X1\n",
    "X2_p=X1[:]*X1[:]\n",
    "\n",
    "X1_PRO=np.c_[X1_p, X2_p]\n",
    "fig = plt.figure()\n",
    "ax  = fig.add_subplot(111)\n",
    "plt.scatter(X1_PRO[Y1==1][:, 0], X1_PRO[Y1==1][:, 1], color='#FFB9BA', marker='o', s = 100)\n",
    "plt.scatter(X1_PRO[Y1==0][:, 0], X1_PRO[Y1==0][:, 1], color='#714A41', marker='s', s=100)\n",
    "\n",
    "ax.set_xlim(-6,6)\n",
    "model = svm.SVC(kernel='linear')\n",
    "clf = model.fit(X1_PRO, Y1)\n",
    "\n",
    "x = np.linspace(-6,6,30)\n",
    "z = (-clf.intercept_[0]-clf.coef_[0][0]*x) / clf.coef_[0][1]\n",
    "\n",
    "ax.plot(x,z,'k')\n",
    "plt.xlabel(r\"$x_1$\",fontsize=15)\n",
    "plt.ylabel(r\"$x_2$\",fontsize=15)\n",
    "\n",
    "y_pred=clf.predict(X1_PRO)\n",
    "\n",
    "\n",
    "plt.show()\n",
    "\n",
    "print(\"Accuracy of %.2f\" %(metrics.accuracy_score(Y1, y_pred)*100))"
   ]
  },
  {
   "cell_type": "markdown",
   "id": "752213ec",
   "metadata": {},
   "source": [
    "## Questions:\n",
    "\n",
    "\n",
    "**1-** Répétez l'exemple ci-dessus pour $x_1=$X1, $y=[1,1,1,1,0,0,0,0,0,1]$, $\\phi(x_1)=(x_1,2x_1^2+3)$.\n",
    "\n",
    "1.1. Dessinez (X1,Y1).\n",
    "\n",
    "1.2. Calculez X_1PRO, la projection de X1 en $\\mathbb{R}^2$.\n",
    "\n",
    "1.3. Calculez l'hyperplane SVM pour X1_PRO data et Y1 etiquette.\n",
    "\n",
    "1.4. Dessinez X1_PRO et l'hyperplane SVM\n",
    "\n",
    "1.5. Calculez la precision.\n",
    "\n",
    "\n",
    "**2-** Répétez l'exemple ci-dessus pour $x_1=$np.linspace(0,19,20), $y=[1,0,1,0,1,0,1,0,1,0,1,0,1,0,1,0,1,0,1,0]$, $\\phi(x_1)=(x_1,x_1 mod\\, 2)$.\n",
    "    \n",
    "2.1. Plot (X1,Y1).\n",
    "\n",
    "2.2. Calculez X_1PRO, la projection de X1 en $\\mathbb{R}^2$.\n",
    "\n",
    "2.3. Calculez l'hyperplane SVM pour X1_PRO data et Y1 etiquette.\n",
    "\n",
    "2.4. Dessinez X1_PRO et l'hyperplane SVM\n",
    "\n",
    "2.5. Calculez la precision.\n",
    "\n"
   ]
  },
  {
   "cell_type": "markdown",
   "id": "2293d497",
   "metadata": {},
   "source": [
    "## Et maintenant en 3D: $\\mathbb{R}^2 \\rightarrow \\mathbb{R}^3$ \n",
    "\n",
    "Reprenons maintenant l'exemple vu au cours 4 où nos données d'origine ne sont pas linéairement séparables en dimension 2. Voici nos données non linéairement séparables, dans l'espace d'entrée."
   ]
  },
  {
   "cell_type": "code",
   "execution_count": 4,
   "id": "cc993e3d",
   "metadata": {},
   "outputs": [
    {
     "data": {
      "image/png": "[encoded data removed]",
      "text/plain": [
       "<Figure size 432x288 with 1 Axes>"
      ]
     },
     "metadata": {
      "needs_background": "light"
     },
     "output_type": "display_data"
    }
   ],
   "source": [
    "# Generation des donnees\n",
    "X1, Y1 = make_circles(n_samples=500, noise=0.1, factor=0.2)\n",
    "frac0 = len(np.where(Y1 == 0)[0]) / float(len(Y1))\n",
    "frac1 = len(np.where(Y1 == 1)[0]) / float(len(Y1))\n",
    " \n",
    "\n",
    "plt.subplot(111)\n",
    "plt.scatter(X1[Y1==1][:, 0], X1[Y1==1][:, 1], color='#FFB9BA', marker='o', s=30, linewidth=1.5, label= \"Class +1:versicolor\")\n",
    "plt.scatter(X1[Y1==0][:, 0], X1[Y1==0][:, 1], color='#714A41', marker='o', s=30, linewidth=1.5, label = \"Class -1:setosa\")\n",
    "\n",
    "plt.show()\n",
    "#plt.savefig('circles.pdf')"
   ]
  },
  {
   "cell_type": "markdown",
   "id": "70c722c5",
   "metadata": {},
   "source": [
    "Et après avoir appliqué la transformation $\\phi(x_1,x_2)=(x_1^2,\\sqrt{2}x_1x_2,x_2^2)$:"
   ]
  },
  {
   "cell_type": "code",
   "execution_count": 5,
   "id": "dd92b513",
   "metadata": {},
   "outputs": [
    {
     "data": {
      "image/png": "[encoded data removed]",
      "text/plain": [
       "<Figure size 432x288 with 1 Axes>"
      ]
     },
     "metadata": {
      "needs_background": "light"
     },
     "output_type": "display_data"
    }
   ],
   "source": [
    "X1_p=X1[:,0]*X1[:,0]\n",
    "X2_p=math.sqrt(2)*X1[:,0]*X1[:,1]\n",
    "X3_p=X1[:,1]*X1[:,1]\n",
    "\n",
    "fig = plt.figure()\n",
    "ax  = fig.add_subplot(111, projection='3d')\n",
    "ax.scatter3D(X1_p[Y1==1], X2_p[Y1==1],X3_p[Y1==1],color='#FFB9BA', marker='o', s=30, linewidth=1.5)\n",
    "ax.scatter3D(X1_p[Y1==0], X2_p[Y1==0],X3_p[Y1==0],color='#714A41', marker='o', s=30, linewidth=1.5)\n",
    "\n",
    "\n",
    "ax.view_init(9, 110)"
   ]
  },
  {
   "cell_type": "markdown",
   "id": "88f19dd1",
   "metadata": {},
   "source": [
    "Nous pouvons maintenant obtenir le SVM pour les données transformées, étant sûr que nous sommes en mesure de trouver un hyperplan qui sépare les données."
   ]
  },
  {
   "cell_type": "code",
   "execution_count": 8,
   "id": "758c6c8c",
   "metadata": {},
   "outputs": [
    {
     "data": {
      "image/png": "[encoded data removed]",
      "text/plain": [
       "<Figure size 432x288 with 1 Axes>"
      ]
     },
     "metadata": {
      "needs_background": "light"
     },
     "output_type": "display_data"
    }
   ],
   "source": [
    "X1_p=X1[:,0]*X1[:,0]\n",
    "X2_p=math.sqrt(2)*X1[:,0]*X1[:,1]\n",
    "X3_p=X1[:,1]*X1[:,1]\n",
    "\n",
    "fig = plt.figure()\n",
    "ax  = fig.add_subplot(111, projection='3d')\n",
    "ax.scatter3D(X1_p[Y1==1], X2_p[Y1==1],X3_p[Y1==1],color='#FFB9BA', marker='o', s=30, linewidth=1.5)\n",
    "ax.scatter3D(X1_p[Y1==0], X2_p[Y1==0],X3_p[Y1==0],color='#714A41', marker='o', s=30, linewidth=1.5)\n",
    "\n",
    "\n",
    "\n",
    "X1_PRO=np.c_[X1_p, X2_p, X3_p]\n",
    "\n",
    "\n",
    "model = svm.SVC(kernel='linear')\n",
    "clf = model.fit(X1_PRO, Y1)\n",
    "\n",
    "\n",
    "z = lambda x,y: (-clf.intercept_[0]-clf.coef_[0][0]*x -clf.coef_[0][1]*y) / clf.coef_[0][2]\n",
    "tmp = np.linspace(-1,1,30)\n",
    "x,y = np.meshgrid(tmp,tmp)\n",
    "ax.plot_surface(x, y, z(x,y))\n",
    "\n",
    "ax.view_init(10, 100)"
   ]
  },
  {
   "cell_type": "markdown",
   "id": "a7667afb",
   "metadata": {},
   "source": [
    "Et si nous voulons voir la belle image 3D en mouvement..."
   ]
  },
  {
   "cell_type": "code",
   "execution_count": 7,
   "id": "3a2cf903",
   "metadata": {},
   "outputs": [
    {
     "data": {
      "text/html": [
       "<img src=\"images/phase-animate/01-pan-rotate-zoom-demo.gif\"/>"
      ],
      "text/plain": [
       "<IPython.core.display.Image object>"
      ]
     },
     "execution_count": 7,
     "metadata": {},
     "output_type": "execute_result"
    }
   ],
   "source": [
    "save_folder = 'images/phase-animate'\n",
    "\n",
    "gif_filename = '01-pan-rotate-zoom-demo'\n",
    "working_folder = '{}/{}'.format(save_folder, gif_filename)\n",
    "if not os.path.exists(working_folder):\n",
    "    os.makedirs(working_folder)\n",
    "\n",
    "fig = plt.figure(figsize=(14, 10), dpi=80)\n",
    "#ax = Axes3D(fig)\n",
    "ax  = fig.add_subplot(111, projection='3d')\n",
    "ax.set_xlim3d(-1,1)\n",
    "ax.set_ylim3d(-1, 1)\n",
    "ax.set_zlim3d(-1, 1)\n",
    "ax.plot_surface(x, y, z(x,y),alpha=0.5)\n",
    "ax.scatter3D(X1_p[Y1==1], X2_p[Y1==1],X3_p[Y1==1],color='#FFB9BA', marker='o', s=30, linewidth=1.5)\n",
    "ax.scatter3D(X1_p[Y1==0], X2_p[Y1==0],X3_p[Y1==0],color='#714A41', marker='o', s=30, linewidth=1.5)  \n",
    "ax.plot_surface(x, y, z(x,y),alpha=0.5, color='#667E91')\n",
    "\n",
    "\n",
    "\n",
    "    \n",
    "\n",
    "# create 36 frames for the animated gif\n",
    "steps = 36\n",
    "\n",
    "# a viewing perspective is composed of an elevation, distance, and azimuth\n",
    "# define the range of values we'll cycle through for the distance of the viewing perspective\n",
    "min_dist = 14.\n",
    "max_dist = 20.\n",
    "dist_range = np.arange(min_dist, max_dist, (max_dist-min_dist)/steps)\n",
    "\n",
    "# define the range of values we'll cycle through for the elevation of the viewing perspective\n",
    "min_elev = 10.\n",
    "max_elev = 50.\n",
    "elev_range = np.arange(max_elev, min_elev, (min_elev-max_elev)/steps)\n",
    "\n",
    "# now create the individual frames that will be combined later into the animation\n",
    "for azimuth in range(0, 360, int(360/steps)):\n",
    "    \n",
    "    # pan down, rotate around, and zoom out\n",
    "    ax.azim = float(azimuth/3.)\n",
    "    ax.elev = elev_range[int(azimuth/(360./steps))]\n",
    "    ax.dist = dist_range[int(azimuth/(360./steps))]\n",
    "    \n",
    "    # set the figure title to the viewing perspective, and save each figure as a .png\n",
    "   # fig.suptitle('elev={:.1f}, azim={:.1f}, dist={:.1f}'.format(ax.elev, ax.azim, ax.dist))\n",
    "    plt.savefig('{}/{}/img{:03d}.png'.format(save_folder, gif_filename, azimuth))\n",
    "    \n",
    "    \n",
    "# don't display the static plot...\n",
    "#ax.view_init(30, 60)\n",
    "plt.close()\n",
    "\n",
    "\n",
    "# load all the static images into a list then save as an animated gif\n",
    "gif_filepath = '{}/{}.gif'.format(save_folder, gif_filename)\n",
    "images = [Image.open(image) for image in sorted(glob.glob('{}/*.png'.format(working_folder)))]\n",
    "gif = images[0]\n",
    "gif.info['duration'] = 100 #milliseconds per frame\n",
    "gif.info['loop'] = 0 #how many times to loop (0=infinite)\n",
    "gif.save(fp=gif_filepath, format='gif', save_all=True, append_images=images[1:])\n",
    "IPdisplay.Image(url=gif_filepath)\n",
    "\n",
    "\n"
   ]
  },
  {
   "cell_type": "markdown",
   "id": "bfa784f2",
   "metadata": {},
   "source": [
    "## Questions:\n",
    "\n",
    "**3-** Répétez l'exemple ci-dessus pour $x_1$ and $y$ du premier exemple:<br />\n",
    "$x_1=np.linspace(-5,5,10)$,<br /> $y=[1,1,1,0,0,0,0,1,1,1]$,<br /> and $\\phi(x_1)=(x_1,x_1^2,x_1^2)$.\n",
    "\n",
    "3.1. Dessinez (X1,Y1).\n",
    "\n",
    "3.2. Calculez X_1PRO, la projection de X1 en $\\mathbb{R}^3$.\n",
    "\n",
    "3.3. Calculez l'hyperplane SVM pour X1_PRO data et Y1 etiquette.\n",
    "\n",
    "3.4. Dessinez X1_PRO et l'hyperplane SVM\n",
    "\n",
    "3.5. Calculez la precision.\n",
    "\n",
    "3.* Dessinez le gif anime pour X1_PRO l'hyperplane SVM.\n",
    "\n",
    "\n",
    "\n",
    "**4-** Répétez l'exemple ci-dessus pour $x_1$ et $y$ de l'exercise 2:<br /> \n",
    "$x_1=np.linspace(0,19,20)$<br />\n",
    "$y=[1,0,1,0,1,0,1,0,1,0,1,0,1,0,1,0,1,0,1,0]$,<br />\n",
    "et $\\phi(x_1)=(x_1,20*(x_1 mod\\, 2),20*(x_1\\, mod\\, 2))$.\n",
    "\n",
    "   \n",
    "4.1. Dessinez (X1,Y1).\n",
    "\n",
    "4.2. Calculez X_1PRO, la projection de X1 en $\\mathbb{R}^3$.\n",
    "\n",
    "4.3. Calculez l'hyperplane SVM pour X1_PRO data et Y1 etiquette.\n",
    "\n",
    "4.4. Dessinez X1_PRO et l'hyperplane SVM\n",
    "\n",
    "4.5. Calculez la precision.\n",
    "\n",
    "4.* Dessinez le gif anime pour X1_PRO l'hyperplane SVM."
   ]
  },
  {
   "cell_type": "code",
   "execution_count": null,
   "id": "3b623917",
   "metadata": {},
   "outputs": [],
   "source": []
  }
 ],
 "metadata": {
  "kernelspec": {
   "display_name": "Python 3",
   "language": "python",
   "name": "python3"
  },
  "language_info": {
   "codemirror_mode": {
    "name": "ipython",
    "version": 3
   },
   "file_extension": ".py",
   "mimetype": "text/x-python",
   "name": "python",
   "nbconvert_exporter": "python",
   "pygments_lexer": "ipython3",
   "version": "3.10.2"
  }
 },
 "nbformat": 4,
 "nbformat_minor": 5
}
