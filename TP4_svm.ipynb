{
 "cells": [
  {
   "cell_type": "markdown",
   "id": "dca7526d",
   "metadata": {
    "tags": []
   },
   "source": [
    "<h1 style=\"font-size:3rem;color:#6667AB;\">TP 4</h1>\n",
    "\n",
    "## Méthodes de Simulation Informatique\n",
    "### Amaya Nogales Gómez\n",
    "\n",
    "<h2> Apprentissage supervisé </h2> \n"
   ]
  },
  {
   "cell_type": "markdown",
   "id": "accd2be8-623c-4853-a9fe-1ff9b3c096ef",
   "metadata": {},
   "source": [
    "<h2> Partie 1: Machines a Vecteurs de Support.</h2>"
   ]
  },
  {
   "cell_type": "code",
   "execution_count": 1,
   "id": "2ec4a323-a4f1-42c5-9d37-57b9512e7ad4",
   "metadata": {},
   "outputs": [],
   "source": [
    "#we import all the required libraries\n",
    "import numpy as np\n",
    "import matplotlib.pyplot as plt # for plotting stuff\n",
    "from random import seed, shuffle\n",
    "from scipy.stats import multivariate_normal # for generating synthetic data \n",
    "from sklearn.svm import SVC\n",
    "from sklearn import datasets #For real datasets\n",
    "SEED = 1122334455\n",
    "seed(SEED) # set the random seed so that the random permutations can be reproduced again\n",
    "np.random.seed(SEED)"
   ]
  },
  {
   "cell_type": "code",
   "execution_count": 2,
   "id": "a468a497",
   "metadata": {},
   "outputs": [],
   "source": [
    "def generate_synthetic_data():\n",
    "\n",
    "    \"\"\"\n",
    "        Code for generating the synthetic data.\n",
    "        We will have two non-sensitive features and one sensitive feature.\n",
    "        A sensitive feature value of 0.0 means the example is considered to be in protected group (e.g., female) and 1.0 means it's in non-protected group (e.g., male).\n",
    "    \"\"\"\n",
    "\n",
    "    n_samples = 10 # generate these many data points per class\n",
    "    \n",
    "    def gen_gaussian(size, mean_in, cov_in, class_label):\n",
    "        nv = multivariate_normal(mean = mean_in, cov = cov_in)\n",
    "        X = nv.rvs(size)\n",
    "        y = np.ones(size, dtype=int) * class_label\n",
    "        return nv,X,y\n",
    "\n",
    "    \"\"\" Generate the features randomly \"\"\"\n",
    "    #For the NON-protected group (men)\n",
    "    # We will generate one gaussian cluster for each class\n",
    "    mu1, sigma1 = [2, 2], [[5, 1], [1, 5]]\n",
    "    mu2, sigma2 = [-2,-2], [[10, 1], [1, 3]]\n",
    "    nv1, X1, y1= gen_gaussian(int(n_samples), mu1, sigma1, 1) # positive class\n",
    "    nv2, X2, y2= gen_gaussian(int(n_samples),mu2, sigma2, 0) # negative class\n",
    "    \n",
    "    \n",
    "\n",
    "    \n",
    "\n",
    "    # join the positive and negative class clusters\n",
    "    X = np.vstack((X1, X2))\n",
    "    y = np.hstack((y1, y2))\n",
    "    \n",
    "\n",
    "    # shuffle the data\n",
    "    perm = list(range(0,n_samples*2))\n",
    "    shuffle(perm)\n",
    "    X = X[perm]\n",
    "    y = y[perm]\n",
    "    \n",
    "\n",
    "    return X,y"
   ]
  },
  {
   "cell_type": "code",
   "execution_count": 3,
   "id": "59c689e4",
   "metadata": {},
   "outputs": [],
   "source": [
    "X_syn, y_syn = generate_synthetic_data() "
   ]
  },
  {
   "cell_type": "code",
   "execution_count": 4,
   "id": "47c52bab",
   "metadata": {},
   "outputs": [
    {
     "name": "stdout",
     "output_type": "stream",
     "text": [
      "[[-1.75227743  0.46427581]\n",
      " [-3.06017164 -5.33162345]\n",
      " [ 6.37824414 -2.20331545]\n",
      " [ 0.75082049  0.15112142]\n",
      " [ 2.52389828  4.28677199]\n",
      " [ 1.45650009  1.73493218]\n",
      " [ 4.19572104  4.33668307]\n",
      " [-0.34200841  0.57161057]\n",
      " [ 3.72522189  0.24478133]\n",
      " [-3.13177091  0.80921212]\n",
      " [ 2.17757635 -2.0595154 ]\n",
      " [ 3.13943753  4.42023136]\n",
      " [ 1.17846162 -2.0563402 ]\n",
      " [-5.15509615 -2.3786229 ]\n",
      " [-2.82893845 -3.29513223]\n",
      " [ 3.34152678  4.50415125]\n",
      " [-3.85571356 -0.78087953]\n",
      " [ 0.99760408  1.76102429]\n",
      " [-0.84763091 -1.20541586]\n",
      " [-1.37993071 -4.70398534]]\n",
      "[0 0 0 1 1 1 1 0 1 1 1 1 0 0 0 1 0 1 0 0]\n"
     ]
    }
   ],
   "source": [
    "print(X_syn)\n",
    "print(y_syn)"
   ]
  },
  {
   "cell_type": "code",
   "execution_count": 5,
   "id": "cfebf837",
   "metadata": {},
   "outputs": [
    {
     "data": {
      "image/png": "[encoded data removed]",
      "text/plain": [
       "<Figure size 432x288 with 1 Axes>"
      ]
     },
     "metadata": {
      "needs_background": "light"
     },
     "output_type": "display_data"
    }
   ],
   "source": [
    "plt.scatter(X_syn[y_syn==1][:, 0], X_syn[y_syn==1][:, 1], color='#378661', marker='x', s=30, linewidth=1.5, label= \"Class +1\")\n",
    "plt.scatter(X_syn[y_syn==0][:, 0], X_syn[y_syn==0][:, 1], color='#A73730', marker='x', s=30, linewidth=1.5, label = \"Class -1\")\n",
    "\n",
    "\n",
    "plt.legend(loc=2, fontsize=10)\n",
    "\n",
    "plt.show()"
   ]
  },
  {
   "cell_type": "code",
   "execution_count": 6,
   "id": "d1cead76",
   "metadata": {},
   "outputs": [],
   "source": [
    "#Fonction exemple pour dessiner une base de donnees et un hyperplane separateur\n",
    "\n",
    "def plot_svc_decision_boundary(svm_clf, xmin, xmax):\n",
    "    w = svm_clf.coef_[0]\n",
    "    b = svm_clf.intercept_[0]\n",
    "\n",
    "    # At the decision boundary, w0*x0 + w1*x1 + b = 0\n",
    "    # => x1 = -w0/w1 * x0 - b/w1\n",
    "    x0 = np.linspace(xmin, xmax, 200)\n",
    "    decision_boundary = -w[0]/w[1] * x0 - b/w[1]\n",
    "\n",
    "    margin = 1/w[1]\n",
    "    gutter_up = decision_boundary + margin\n",
    "    gutter_down = decision_boundary - margin\n",
    "\n",
    "    svs = svm_clf.support_vectors_\n",
    "    plt.scatter(svs[:, 0], svs[:, 1], s=180, facecolors='#FFAAAA')\n",
    "    plt.plot(x0, decision_boundary, \"k-\", linewidth=2)\n",
    "    plt.plot(x0, gutter_up, \"k--\", linewidth=2)\n",
    "    plt.plot(x0, gutter_down, \"k--\", linewidth=2)"
   ]
  },
  {
   "cell_type": "code",
   "execution_count": 7,
   "id": "6ae4f9c1",
   "metadata": {},
   "outputs": [
    {
     "data": {
      "image/png": "[encoded data removed]",
      "text/plain": [
       "<Figure size 432x288 with 1 Axes>"
      ]
     },
     "metadata": {
      "needs_background": "light"
     },
     "output_type": "display_data"
    }
   ],
   "source": [
    "#SVM Classifier model\n",
    "#le parametre C controle les violations du marge\n",
    "#un C plus petit entraîne plus de violations de marge mais une marge plus large\n",
    "\n",
    "svm_clf = SVC(kernel=\"linear\", C=float(\"4.0\"))\n",
    "svm_clf.fit(X_syn, y_syn)\n",
    "\n",
    "plot_svc_decision_boundary(svm_clf, -2, 2)\n",
    "plt.scatter(X_syn[y_syn==1][:, 0], X_syn[y_syn==1][:, 1], color='#378661', marker='x', s=30, linewidth=1.5, label= \"Class +1\")\n",
    "plt.scatter(X_syn[y_syn==0][:, 0], X_syn[y_syn==0][:, 1], color='#A73730', marker='x', s=30, linewidth=1.5, label = \"Class -1\")\n",
    "\n",
    "\n",
    "plt.show() "
   ]
  },
  {
   "cell_type": "markdown",
   "id": "8a6770cf",
   "metadata": {},
   "source": [
    "1- Changez les parametres de la fonction <i> plot_svc_decision_boundary </i> de tel facon que l'hyperplane soit bien dessine (xmin et xmax).\n",
    "\n",
    "2- Calculez la precision, sensibilite et specificite.\n",
    "\n",
    "3- Changez le valeur du parametre C, mettez-lui egal a 0.4. Quel changements vous observez?\n",
    "4- Recalculez la precision, sensibilite et specificite pour cette nouvelle hyperplane.\n",
    "\n",
    "5- Exercise du tableau au papier.\n",
    "\n",
    "6- Maintenant, calculer avec l'aide du sklearn l'hyperplane SVM pour la base de donnees de l'exercise 5.\n",
    "\n",
    "7- Calculez la precision, sensibilite et specificite.\n",
    "\n",
    "\n",
    "8- Importez la base de données COMPAS utilisé dans l'analyse Propublica \"propublica.csv\". Binarisez les variables <i>c_charge</i>, <i>race</i>, <i>age_cat</i> et <i>sex</i>.\n",
    "\n",
    "9- Creez une nouvelle dataframe qu'avec les variables suivants:\n",
    "['age', 'priors_count', 'days_b_screening_arrest',\n",
    "         'juv_fel_count',\n",
    "       'juv_misd_count', 'juv_other_count', 'is_violent_recid', 'c_charge',\n",
    "        'less_than_25', 'between_25_45', 'greater_than_25',\n",
    "        'Male']\n",
    "        \n",
    "10- Notre colonne d'etiquettes c'est <i>two_year_recid</i>. Tenant en compte ca. Calculez l'hyperplane du SVM, la precision, sensibilite et specificite.\n",
    "\n",
    "11- Creez une nouvelle serie (colonne du dataframe) avec les preditions du COMPAS, appelez-la <i>COMPAS_decision</i>. COMPAS_decision=0 si score_text= Low et 1 au cas contraire.\n",
    "\n",
    "12- Calculez de nouveaux les 3 metriques pour cette nouvelle prediction et les vrais etiquettes.\n",
    "\n",
    "13- Quelle algorithme obtient des meilleurs resultats: le SVM ou le COMPAS?\n",
    "\n",
    "\n",
    "14- Calculez et dessinez le SVM pour la base de donnees du TP2, Type B, exercise 1. Calculez les metriques de performance.\n",
    "\n",
    "15- Calculez et dessinez le SVM pour la base de donnees du TP2, Type B, exercise 2, c'est-a-dire, avec les donnees aberrantes inclus. Calculez les metriques de performance. \n",
    "\n",
    "16- Quels differences vous observez? \"Jouez\" avec le parametre C pour obtenir differents hyperplans. Qu'est-ce vous observez?\n",
    "\n"
   ]
  },
  {
   "cell_type": "markdown",
   "id": "bc675e10",
   "metadata": {},
   "source": [
    "## Iris dataset "
   ]
  },
  {
   "cell_type": "code",
   "execution_count": 8,
   "id": "f03ad906",
   "metadata": {},
   "outputs": [
    {
     "name": "stdout",
     "output_type": "stream",
     "text": [
      "(150, 4)\n",
      "['sepal length (cm)', 'sepal width (cm)', 'petal length (cm)', 'petal width (cm)']\n",
      "['setosa' 'versicolor' 'virginica']\n"
     ]
    }
   ],
   "source": [
    "iris = datasets.load_iris()\n",
    "print(iris.data.shape)\n",
    "print(iris.feature_names) #variables, features\n",
    "print(iris.target_names) #classes"
   ]
  },
  {
   "cell_type": "markdown",
   "id": "8cde6df3",
   "metadata": {},
   "source": [
    "17- Quelle est la taille de ce base de donnees? Et la dimension? Combient de classes il y a?\n",
    "\n",
    "On va changer la base de donnes de facon qu'on soit en dimension 2 et qu'avec 2 classes."
   ]
  },
  {
   "cell_type": "code",
   "execution_count": 9,
   "id": "46483a15",
   "metadata": {},
   "outputs": [
    {
     "name": "stdout",
     "output_type": "stream",
     "text": [
      "100\n"
     ]
    }
   ],
   "source": [
    "X = iris[\"data\"][:, (2, 3)]  # petal length, petal width\n",
    "#print(X)\n",
    "\n",
    "y = iris[\"target\"]\n",
    "\n",
    "\n",
    "setosa_or_versicolor = (y == 0) | (y == 1)\n",
    "X = X[setosa_or_versicolor]\n",
    "y = y[setosa_or_versicolor]\n",
    "print(y.size)\n"
   ]
  },
  {
   "cell_type": "markdown",
   "id": "4258e86c",
   "metadata": {},
   "source": [
    "18- Calculez et dessinez le classificateur SVM pour cette base de donnees. Calculez les metriques.\n",
    "\n",
    "19- A l'aide des fonctions <i>.xlabel</i>, <i>.ylabel</i>, <i>.title</i> et <i>.axis</i> modifiez la figure en creant des titres et etiquettes pour les axes.\n",
    "\n",
    "EXTRA:\n",
    "\n",
    "1- Faire les exercises 14 et 15 mais pour le Type A ET en dimension 2.\n",
    "\n",
    "2- Importez une base de donnees de kaggle.com (pour classification binaire, calculez le SVM et les metriques.\n",
    "\n",
    "3- Importez une base de donnees de la UCI (pour classification binaire, calculez le SVM et les metriques. \n",
    "\n"
   ]
  }
 ],
 "metadata": {
  "kernelspec": {
   "display_name": "Python 3",
   "language": "python",
   "name": "python3"
  },
  "language_info": {
   "codemirror_mode": {
    "name": "ipython",
    "version": 3
   },
   "file_extension": ".py",
   "mimetype": "text/x-python",
   "name": "python",
   "nbconvert_exporter": "python",
   "pygments_lexer": "ipython3",
   "version": "3.10.2"
  }
 },
 "nbformat": 4,
 "nbformat_minor": 5
}
